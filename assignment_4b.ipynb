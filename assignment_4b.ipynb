{
  "cells": [
    {
      "cell_type": "markdown",
      "metadata": {
        "id": "aJ_pmgxvGur9"
      },
      "source": [
        "# Assignment 4b - Graph Convolutional Networks\n",
        "## Deep Learning Course - Vrije Universiteit Amsterdam, 2022"
      ]
    },
    {
      "cell_type": "markdown",
      "metadata": {
        "id": "mEneMITS2agU"
      },
      "source": [
        "#### Instructions on how to use this notebook:\n",
        "\n",
        "This notebook is hosted on Google Colab. To be able to work on it, you have to create your own copy. Go to *File* and select *Save a copy in Drive*.\n",
        "\n",
        "You can also avoid using Colab entirely, and download the notebook to run it on your own machine. If you choose this, go to *File* and select *Download .ipynb*.\n",
        "\n",
        "The advantage of using Colab is that you can use a GPU. You can complete this assignment with a CPU, but it will take a bit longer. Furthermore, we encourage you to train using the GPU not only for faster training, but also to get experience with this setting. This includes moving models and tensors to the GPU and back. This experience is very valuable because for many interesting models and large datasets (like large CNNs for ImageNet, or Transformer models trained on Wikipedia), training on GPU is the only feasible way.\n",
        "\n",
        "The default Colab runtime does not have a GPU. To change this, go to *Runtime - Change runtime type*, and select *GPU* as the hardware accelerator. The GPU that you get changes according to what resources are available at the time, and its memory can go from a 5GB, to around 18GB if you are lucky. If you are curious, you can run the following in a code cell to check:\n",
        "\n",
        "```sh\n",
        "!nvidia-smi\n",
        "```\n",
        "\n",
        "Note that despite the name, Google Colab does  not support collaborative work without issues. When two or more people edit the notebook concurrently, only one version will be saved. You can choose to do group programming with one person sharing the screen with the others, or make multiple copies of the notebook to work concurrently.\n",
        "\n",
        "**Submission:** Upload your notebook in .ipynb format to Canvas. The code and answers to the questions in the notebook are sufficient, no separate report is expected. "
      ]
    },
    {
      "cell_type": "code",
      "execution_count": null,
      "metadata": {
        "colab": {
          "base_uri": "https://localhost:8080/"
        },
        "id": "lBgoJIpdLI2Y",
        "outputId": "515791da-a957-463e-8597-378c1e02a474"
      },
      "outputs": [
        {
          "output_type": "stream",
          "name": "stdout",
          "text": [
            "Fri Dec 23 13:10:43 2022       \n",
            "+-----------------------------------------------------------------------------+\n",
            "| NVIDIA-SMI 460.32.03    Driver Version: 460.32.03    CUDA Version: 11.2     |\n",
            "|-------------------------------+----------------------+----------------------+\n",
            "| GPU  Name        Persistence-M| Bus-Id        Disp.A | Volatile Uncorr. ECC |\n",
            "| Fan  Temp  Perf  Pwr:Usage/Cap|         Memory-Usage | GPU-Util  Compute M. |\n",
            "|                               |                      |               MIG M. |\n",
            "|===============================+======================+======================|\n",
            "|   0  Tesla T4            Off  | 00000000:00:04.0 Off |                    0 |\n",
            "| N/A   64C    P0    30W /  70W |      0MiB / 15109MiB |      0%      Default |\n",
            "|                               |                      |                  N/A |\n",
            "+-------------------------------+----------------------+----------------------+\n",
            "                                                                               \n",
            "+-----------------------------------------------------------------------------+\n",
            "| Processes:                                                                  |\n",
            "|  GPU   GI   CI        PID   Type   Process name                  GPU Memory |\n",
            "|        ID   ID                                                   Usage      |\n",
            "|=============================================================================|\n",
            "|  No running processes found                                                 |\n",
            "+-----------------------------------------------------------------------------+\n"
          ]
        }
      ],
      "source": [
        "!nvidia-smi"
      ]
    },
    {
      "cell_type": "markdown",
      "metadata": {
        "id": "tsdc7fDp40rQ"
      },
      "source": [
        "### Introduction\n",
        "\n",
        "Graphs are very useful data structures that allow us to represent sets of entities and the way they are related among each other. In a graph, entities are also known as *nodes*, and any link between entities is also called an *edge*.\n",
        "\n",
        "Examples of real world objects that can be modeled as graphs are social networks, where entities are people and relations denote friendship; and molecules, where entities are atoms and relations indicate a bond between them.\n",
        "\n",
        "There has been increased interest in the recent years in the application of deep learning architectures to graph-structured data, for tasks like predicting missing relations between entities, classifying entities, and classifying graphs. This interest has been spurred by the introduction of Graph Convolutional Networks (GCNs).\n",
        "\n",
        "In this assignment, you will implement and experiment with one of the first versions of the GCN, proposed by Thomas Kipf and Max Welling in their 2017 paper, [Semi-supervised Classification with Graph Convolutional Networks](https://arxiv.org/abs/1609.02907). In particular, the goals of this assignment are to\n",
        "\n",
        "- Understand how GCNs are formulated\n",
        "- Implement the GCN using PyTorch\n",
        "- Train and evaluate a model for semi-supervised node classification in citation networks\n",
        "- Train and evaluate a model for binary classification of molecules"
      ]
    },
    {
      "cell_type": "markdown",
      "metadata": {
        "id": "RvsuVNczG6pP"
      },
      "source": [
        "### Representing graphs\n",
        "\n",
        "Suppose we have the following graph:\n",
        "\n",
        "<img src=\"https://raw.githubusercontent.com/dfdazac/dlvu-a5/main/img/01-graph.png\" width=\"200\">\n",
        "\n",
        "This is an undirected graph (since the edges have no specified direction) with 4 nodes. One way to represent the connectivity structure of the graph is by means of the **adjacency matrix**. The $i$-th row of the matrix contains a 1 in the $j$-th column, if nodes $i$ and $j$ are connected. For an undirected graph like the one above, this means that the adjacency matrix\n",
        "\n",
        "- Is symmetric (e.g. an edge between 0 and 2 is equivalent as an edge between 2 and 0)\n",
        "- Is square, of size $n\\times n$ where $n$ is the number of nodes\n",
        "\n",
        "The adjacency matrix for the graph above is then the following:\n",
        "\n",
        "$$\n",
        "A =\n",
        "\\begin{bmatrix}\n",
        "0 & 0 & 1 & 0 \\\\ \n",
        "0 & 0 & 1 & 0 \\\\\n",
        "1 & 1 & 0 & 1 \\\\\n",
        "0 & 0 & 1 & 0\n",
        "\\end{bmatrix}\n",
        "$$\n",
        "\n",
        "A second matrix of interest is the **degree matrix**. This is a diagonal matrix where the $i$-th element of the diagonal indicates the number of edges connected to node $i$. Note that these can be obtained from $A$ by summing across the columns, or the rows. For our example, the degree matrix is\n",
        "\n",
        "$$\n",
        "D = \\begin{bmatrix}\n",
        "1 & 0 & 0 & 0 \\\\ \n",
        "0 & 1 & 0 & 0 \\\\\n",
        "0 & 0 & 3 & 0 \\\\\n",
        "0 & 0 & 0 & 1\n",
        "\\end{bmatrix}\n",
        "$$\n",
        "\n",
        "For specific applications, each node in the graph will have an associated vector of features $x\\in\\mathbb{R}^c$. If our graph is a social network, then the vector of features can contain information like age, location, and musical tastes, in a specific numeric format. In the case of a molecule, the node could represent an atom and have features like the atomic mass, etc. We can lay out the features in a matrix $X\\in\\mathbb{R}^{n\\times c}$, so that the feature vector for node $i$ is in the $i$-th row."
      ]
    },
    {
      "cell_type": "markdown",
      "metadata": {
        "id": "zCEQ2ffzHCf2"
      },
      "source": [
        "### Loading a citation network\n",
        "\n",
        "To move to a real world example, we will start with the Cora dataset. This dataset represents a citation network, where nodes are scientific publications, edges denote citations between them, and features are a [bag-of-words](https://en.wikipedia.org/wiki/Bag-of-words_model) extracted from their contents.\n",
        "\n",
        "This graph contains labels for nodes, that represent a specific topic. We will use these for a node classification task.\n",
        "\n",
        "To easily load it, we will use [PyTorch Geometric](https://pytorch-geometric.readthedocs.io/en/latest/index.html) (PyG), a deep learning library for graph-structured data."
      ]
    },
    {
      "cell_type": "code",
      "execution_count": 3,
      "metadata": {
        "id": "Yd2bTEBADt-a",
        "colab": {
          "base_uri": "https://localhost:8080/",
          "height": 1007
        },
        "outputId": "e7e0e8e5-2d0b-4c97-86bd-345aa56fe027"
      },
      "outputs": [
        {
          "output_type": "stream",
          "name": "stdout",
          "text": [
            "Looking in indexes: https://pypi.org/simple, https://us-python.pkg.dev/colab-wheels/public/simple/\n",
            "Looking in links: https://pytorch-geometric.com/whl/torch-1.13.0+cu116.html\n",
            "Collecting torch-scatter\n",
            "  Downloading https://data.pyg.org/whl/torch-1.13.0%2Bcu116/torch_scatter-2.1.0%2Bpt113cu116-cp38-cp38-linux_x86_64.whl (9.4 MB)\n",
            "\u001b[K     |████████████████████████████████| 9.4 MB 7.4 MB/s \n",
            "\u001b[?25hInstalling collected packages: torch-scatter\n",
            "Successfully installed torch-scatter-2.1.0+pt113cu116\n",
            "Looking in indexes: https://pypi.org/simple, https://us-python.pkg.dev/colab-wheels/public/simple/\n",
            "Looking in links: https://pytorch-geometric.com/whl/torch-1.13.0+cu116.html\n",
            "Collecting torch-sparse\n",
            "  Downloading https://data.pyg.org/whl/torch-1.13.0%2Bcu116/torch_sparse-0.6.16%2Bpt113cu116-cp38-cp38-linux_x86_64.whl (4.5 MB)\n",
            "\u001b[K     |████████████████████████████████| 4.5 MB 7.5 MB/s \n",
            "\u001b[?25hRequirement already satisfied: scipy in /usr/local/lib/python3.8/dist-packages (from torch-sparse) (1.7.3)\n",
            "Requirement already satisfied: numpy<1.23.0,>=1.16.5 in /usr/local/lib/python3.8/dist-packages (from scipy->torch-sparse) (1.21.6)\n",
            "Installing collected packages: torch-sparse\n",
            "Successfully installed torch-sparse-0.6.16+pt113cu116\n",
            "Looking in indexes: https://pypi.org/simple, https://us-python.pkg.dev/colab-wheels/public/simple/\n",
            "Collecting torch-geometric\n",
            "  Downloading torch_geometric-2.2.0.tar.gz (564 kB)\n",
            "\u001b[K     |████████████████████████████████| 564 kB 6.6 MB/s \n",
            "\u001b[?25hRequirement already satisfied: tqdm in /usr/local/lib/python3.8/dist-packages (from torch-geometric) (4.64.1)\n",
            "Requirement already satisfied: numpy in /usr/local/lib/python3.8/dist-packages (from torch-geometric) (1.21.6)\n",
            "Requirement already satisfied: scipy in /usr/local/lib/python3.8/dist-packages (from torch-geometric) (1.7.3)\n",
            "Requirement already satisfied: jinja2 in /usr/local/lib/python3.8/dist-packages (from torch-geometric) (2.11.3)\n",
            "Requirement already satisfied: requests in /usr/local/lib/python3.8/dist-packages (from torch-geometric) (2.23.0)\n",
            "Requirement already satisfied: pyparsing in /usr/local/lib/python3.8/dist-packages (from torch-geometric) (3.0.9)\n",
            "Requirement already satisfied: scikit-learn in /usr/local/lib/python3.8/dist-packages (from torch-geometric) (1.0.2)\n",
            "Collecting psutil>=5.8.0\n",
            "  Downloading psutil-5.9.4-cp36-abi3-manylinux_2_12_x86_64.manylinux2010_x86_64.manylinux_2_17_x86_64.manylinux2014_x86_64.whl (280 kB)\n",
            "\u001b[K     |████████████████████████████████| 280 kB 63.3 MB/s \n",
            "\u001b[?25hRequirement already satisfied: MarkupSafe>=0.23 in /usr/local/lib/python3.8/dist-packages (from jinja2->torch-geometric) (2.0.1)\n",
            "Requirement already satisfied: certifi>=2017.4.17 in /usr/local/lib/python3.8/dist-packages (from requests->torch-geometric) (2022.12.7)\n",
            "Requirement already satisfied: chardet<4,>=3.0.2 in /usr/local/lib/python3.8/dist-packages (from requests->torch-geometric) (3.0.4)\n",
            "Requirement already satisfied: urllib3!=1.25.0,!=1.25.1,<1.26,>=1.21.1 in /usr/local/lib/python3.8/dist-packages (from requests->torch-geometric) (1.24.3)\n",
            "Requirement already satisfied: idna<3,>=2.5 in /usr/local/lib/python3.8/dist-packages (from requests->torch-geometric) (2.10)\n",
            "Requirement already satisfied: joblib>=0.11 in /usr/local/lib/python3.8/dist-packages (from scikit-learn->torch-geometric) (1.2.0)\n",
            "Requirement already satisfied: threadpoolctl>=2.0.0 in /usr/local/lib/python3.8/dist-packages (from scikit-learn->torch-geometric) (3.1.0)\n",
            "Building wheels for collected packages: torch-geometric\n",
            "  Building wheel for torch-geometric (setup.py) ... \u001b[?25l\u001b[?25hdone\n",
            "  Created wheel for torch-geometric: filename=torch_geometric-2.2.0-py3-none-any.whl size=773302 sha256=fb6da094fb3690fc39cda70c25c7a0e87df2523797fe455cecb512f53a0a4f13\n",
            "  Stored in directory: /root/.cache/pip/wheels/59/a3/20/198928106d3169865ae73afcbd3d3d1796cf6b429b55c65378\n",
            "Successfully built torch-geometric\n",
            "Installing collected packages: psutil, torch-geometric\n",
            "  Attempting uninstall: psutil\n",
            "    Found existing installation: psutil 5.4.8\n",
            "    Uninstalling psutil-5.4.8:\n",
            "      Successfully uninstalled psutil-5.4.8\n",
            "Successfully installed psutil-5.9.4 torch-geometric-2.2.0\n"
          ]
        },
        {
          "output_type": "display_data",
          "data": {
            "application/vnd.colab-display-data+json": {
              "pip_warning": {
                "packages": [
                  "psutil"
                ]
              }
            }
          },
          "metadata": {}
        }
      ],
      "source": [
        "# Install PyTorch Geometric\n",
        "import torch\n",
        "try:\n",
        "    import torch_geometric\n",
        "except ModuleNotFoundError:\n",
        "    # Installing torch geometric packages with specific CUDA+PyTorch version.\n",
        "    # See https://pytorch-geometric.readthedocs.io/en/latest/notes/installation.html for details\n",
        "    TORCH = torch.__version__.split('+')[0]\n",
        "    CUDA = 'cu' + torch.version.cuda.replace('.','')\n",
        "\n",
        "    !pip install torch-scatter     -f https://pytorch-geometric.com/whl/torch-{TORCH}+{CUDA}.html\n",
        "    !pip install torch-sparse      -f https://pytorch-geometric.com/whl/torch-{TORCH}+{CUDA}.html\n",
        "    !pip install torch-geometric\n",
        "    import torch_geometric"
      ]
    },
    {
      "cell_type": "code",
      "execution_count": 1,
      "metadata": {
        "id": "LfCTplU7nQ7q"
      },
      "outputs": [],
      "source": [
        "import torch\n",
        "import torch_geometric"
      ]
    },
    {
      "cell_type": "markdown",
      "metadata": {
        "id": "V0Nvh_-qEo1q"
      },
      "source": [
        "We can now use the library to download and import the dataset. Initializing the `Planetoid` class returns a `Dataset` object that can contain multiple graphs. In this task we will only use the `Cora` dataset (the citation network) and hence, we will select only the first element."
      ]
    },
    {
      "cell_type": "code",
      "execution_count": 2,
      "metadata": {
        "colab": {
          "base_uri": "https://localhost:8080/",
          "height": 0
        },
        "id": "vuOvwhsHD2YK",
        "outputId": "86ef54da-6509-4b80-96e4-964c459dc1c9"
      },
      "outputs": [
        {
          "output_type": "stream",
          "name": "stderr",
          "text": [
            "Downloading https://github.com/kimiyoung/planetoid/raw/master/data/ind.cora.x\n",
            "Downloading https://github.com/kimiyoung/planetoid/raw/master/data/ind.cora.tx\n",
            "Downloading https://github.com/kimiyoung/planetoid/raw/master/data/ind.cora.allx\n",
            "Downloading https://github.com/kimiyoung/planetoid/raw/master/data/ind.cora.y\n",
            "Downloading https://github.com/kimiyoung/planetoid/raw/master/data/ind.cora.ty\n",
            "Downloading https://github.com/kimiyoung/planetoid/raw/master/data/ind.cora.ally\n",
            "Downloading https://github.com/kimiyoung/planetoid/raw/master/data/ind.cora.graph\n",
            "Downloading https://github.com/kimiyoung/planetoid/raw/master/data/ind.cora.test.index\n",
            "Processing...\n",
            "Done!\n"
          ]
        }
      ],
      "source": [
        "from torch_geometric.datasets import Planetoid\n",
        "data = Planetoid(root='data/Planetoid', name='Cora')[0]"
      ]
    },
    {
      "cell_type": "markdown",
      "metadata": {
        "id": "v4WZkoiHFyZm"
      },
      "source": [
        "\n",
        "#### Question 1 (0.25 pt)\n",
        "\n",
        "The `data` object is an instance of the `Data` class in PyG. Check the [documentation](https://pytorch-geometric.readthedocs.io/en/latest/modules/data.html) and report the following properties of the graph:\n",
        "\n",
        "- Number of nodes\n",
        "- Number of edges \n",
        "- The dimension $c$ of the feature vectors $x\\in\\mathbb{R}^c$\n",
        "- The number of targets for the classification task"
      ]
    },
    {
      "cell_type": "code",
      "execution_count": 3,
      "metadata": {
        "colab": {
          "base_uri": "https://localhost:8080/",
          "height": 0
        },
        "id": "sjVuGJhlJC_7",
        "outputId": "7d17d7e9-2d44-43d1-8692-8621d4072cd1"
      },
      "outputs": [
        {
          "output_type": "stream",
          "name": "stdout",
          "text": [
            "Number of Nodes: 2708\n",
            "Number of Edges: 10556\n",
            "Dimension 𝑐 of the feature vectors  𝑥∈ℝ𝑐: 1433\n",
            "Number of Classes: 7\n"
          ]
        }
      ],
      "source": [
        "# Number of nodes\n",
        "print(f\"Number of Nodes: {data.num_nodes}\")\n",
        "# Number of edges\n",
        "print(f\"Number of Edges: {data.num_edges}\")\n",
        "# The dimension 𝑐 of the feature vectors  𝑥∈ℝ𝑐\n",
        "node_features = data.num_node_features\n",
        "print(f\"Dimension 𝑐 of the feature vectors  𝑥∈ℝ𝑐: {node_features}\")\n",
        "# The number of targets for the classification task\n",
        "num_classes = data.y.unique().size()[0]\n",
        "print(f\"Number of Classes: {num_classes}\")"
      ]
    },
    {
      "cell_type": "markdown",
      "metadata": {
        "id": "G4DrGDAuJ2YO"
      },
      "source": [
        "#### Question 2 (0.25 pt)\n",
        "\n",
        "In PyG, edges are provided in a tensor of shape (2, number of edges). You can access it via `data.edge_index`. Each column in this tensor contains the IDs for two nodes that are connected in the graph.\n",
        "\n",
        "We saw that in an undirected graph, an edge between nodes $i$ and $j$ adds a value of 1 to positions $(i, j)$ and $(j, i)$ of the adjacency matrix. Is this also true for the edge index? That is, if there is an edge $(i, j)$ in `data.edge_index`, is there also an edge for $(j, i)$? This is important to know for the next steps of the implementation."
      ]
    },
    {
      "cell_type": "code",
      "execution_count": 4,
      "metadata": {
        "colab": {
          "base_uri": "https://localhost:8080/",
          "height": 0
        },
        "id": "jTRfNxibarRZ",
        "outputId": "32d3cf22-51fd-4dcf-f7bd-67d8e543608d"
      },
      "outputs": [
        {
          "output_type": "stream",
          "name": "stdout",
          "text": [
            "tensor([[   0,    0,    0,  ..., 2707, 2707, 2707],\n",
            "        [ 633, 1862, 2582,  ...,  598, 1473, 2706]])\n",
            "<class 'torch.Tensor'>\n",
            "True\n"
          ]
        }
      ],
      "source": [
        "import numpy as np\n",
        "# Your answer here\n",
        "print(data.edge_index)\n",
        "adjacency_matrix= np.zeros((2708,2708), dtype = int) \n",
        "print(type(data.edge_index[0]))\n",
        "\n",
        "# transform the matrix to adjacency matrix\n",
        "for i in range(len(data.edge_index[0])):\n",
        "    row = data.edge_index[0][i]\n",
        "    col = data.edge_index[1][i]\n",
        "    adjacency_matrix[row][col] = 1\n",
        "    \n",
        "res = (adjacency_matrix==adjacency_matrix.T).all()\n",
        "# print the result\n",
        "print(res)\n"
      ]
    },
    {
      "cell_type": "markdown",
      "metadata": {
        "id": "AIqc_nozXZvc"
      },
      "source": [
        "We observe that if edge (i,j) is in the adjacency matrix, then edge (j,i) is also in the matrix, which means the graph is undirected graph."
      ]
    },
    {
      "cell_type": "markdown",
      "metadata": {
        "id": "YOpS3QTYiOqp"
      },
      "source": [
        "#### Question 3 (0.5 pt)\n",
        "\n",
        "In graphs, especially large ones, the adjacency matrix is **sparse**: most entries are zero. Sparse matrices allow for efficient storage and computation.\n",
        "\n",
        "To prepare and pre-process sparse matrices, we will use [`scipy.sparse`](https://docs.scipy.org/doc/scipy/reference/sparse.html). Once the matrices are ready, we will convert them to PyTorch tensors.\n",
        "\n",
        "We will use the [Sparse COO format](https://en.wikipedia.org/wiki/Sparse_matrix#Coordinate_list_(COO)). We encourage you to first get familiar with how it works after continuing with the assignment.\n",
        "\n",
        "- Use the [`scipy.sparse.coo_matrix()`](https://docs.scipy.org/doc/scipy/reference/generated/scipy.sparse.coo_matrix.html) function to build the adjacency matrix. Think of what arguments are needed, and how you can obtain them from the graph data loaded above.\n",
        "- Use the `sum()` method of sparse matrices, together with `scipy.sparse.diags()`, to compute the [degree matrix](https://en.wikipedia.org/wiki/Degree_matrix) using the definition above.\n",
        "\n",
        "Both resulting matrices must be sparse of type `float32`."
      ]
    },
    {
      "cell_type": "code",
      "execution_count": 5,
      "metadata": {
        "colab": {
          "base_uri": "https://localhost:8080/",
          "height": 0
        },
        "id": "QC01OjbJs92-",
        "outputId": "e839d010-fddd-487b-afb9-25e53c0fd6cc"
      },
      "outputs": [
        {
          "output_type": "stream",
          "name": "stdout",
          "text": [
            "tensor([[   0,    0,    0,  ..., 2707, 2707, 2707],\n",
            "        [ 633, 1862, 2582,  ...,  598, 1473, 2706]])\n"
          ]
        }
      ],
      "source": [
        "from scipy.sparse import coo_matrix\n",
        "from scipy.sparse import diags\n",
        "print(data.edge_index)\n",
        "\n",
        "# build the adjacency matrix\n",
        "coo = coo_matrix(adjacency_matrix, dtype=float)\n",
        " \n",
        "# compute the degree matrix\n",
        "degrees = coo.sum(axis=1).flatten().A\n",
        "diag_matrix = diags(degrees, list(range(len(degrees))), dtype=float)\n"
      ]
    },
    {
      "cell_type": "markdown",
      "metadata": {
        "id": "AIEJyQi2TzyY"
      },
      "source": [
        "You might wonder why we suggest to use a scipy sparse matrix, while also PyTorch supports them. The reason is that in the next step, we will be multiplying two sparse matrices, an operation not supported in PyTorch. PyTorch only allows multiplying a sparse matrix with a dense one, something which we will be doing at a later stage.\n",
        "\n"
      ]
    },
    {
      "cell_type": "markdown",
      "metadata": {
        "id": "YlmzSb0up4LB"
      },
      "source": [
        "### The Graph Convolutional Network\n",
        "\n",
        "The goal of the graph convolution is to take the feature vectors of all nodes $X\\in\\mathbb{R}^{n\\times c}$, and propagate them along the existing edges, to obtain updated representations $Z\\in\\mathbb{R}^{n\\times d}$.\n",
        "\n",
        "\n",
        "The GCN is initially motivated as performing a convolution, similarly as it is done in CNNs for images, for graph-structured data. In Kipf and Welling (2017), a theoretical derivation leads to the following formula:\n",
        "\n",
        "$$\n",
        "Z = \\tilde{D}^{-\\frac{1}{2}}\\tilde{A}\\tilde{D}^{-\\frac{1}{2}}XW\n",
        "$$\n",
        "\n",
        "where\n",
        "\n",
        "- $W\\in\\mathbb{R}^{c\\times d}$ is a matrix of parameters to be learned via gradient descent\n",
        "- $\\tilde{A} = A + I_n$, where $I_n$ is an $n\\times n$ identity matrix\n",
        "- $\\tilde{D}$ is the degree matrix computed with $\\tilde{A}$ as the adjacency matrix\n",
        "\n",
        "If we define $\\hat{A} = \\tilde{D}^{-\\frac{1}{2}}\\tilde{A}\\tilde{D}^{-\\frac{1}{2}}$, the graph convolution can be written as $Z = \\hat{A}XW$."
      ]
    },
    {
      "cell_type": "markdown",
      "metadata": {
        "id": "LL4b-MTvysBp"
      },
      "source": [
        "#### Question 4 (0.25 pt)\n",
        "\n",
        "Given the formula for the GCN, explain why it operates by propagating feature vectors across the graph. To answer this, it might be useful to recall the definitions of the adjacency and degree matrices, and how they are involved in the formula."
      ]
    },
    {
      "cell_type": "markdown",
      "metadata": {
        "id": "Vgx2SkTTyiSN"
      },
      "source": [
        "To understand $\\mathbf{\\hat{A}} = \\tilde{D}^{-\\frac{1}{2}}\\tilde{A}\\tilde{D}^{-\\frac{1}{2}}$, let us look at each multiplication individually. First \n",
        "$$\n",
        "\\left(\\tilde{D}^{-\\frac{1}{2}}\\tilde{A}\\right)_{ij} = \\sum_{k=1}^N \\tilde{D}^{-\\frac{1}{2}}_{ik} \\tilde{A}_{kj} = \\tilde{D}^{-\\frac{1}{2}}_{ii} \\tilde{A}_{ij}\n",
        "$$\n",
        "This is because $\\tilde{D}$ is a diagonal matrix, that is, it only has non-zero entries on its diagonal, thus reducing the sum to a single term. This term can be interpreted as scaling the strength of each outgoing connection from node $i$ by the number of outgoing connections node $i$ has. Now assigning $A' = \\tilde{D}^{-\\frac{1}{2}} \\tilde{A}$,\n",
        "$$\n",
        "\\left(A'\\tilde{D}^{-\\frac{1}{2}}\\right) = \\sum_{k=1}^N A'_{ik}\\tilde{D}^{-\\frac{1}{2}}_{kj} = A'_{ij}\\tilde{D}^{-\\frac{1}{2}}_{jj}\n",
        "$$\n",
        "\n",
        "Again this has the interpretation of scaling each incoming connection to node $j$ by $1/\\sqrt{d_j}$. Therefore, the term $\\mathbf{\\hat{A}}_{ij}$ is $d_i^{-1/2}d_j^{-1/2}A_{ij}$ where $d_k$ is the degree for node $k$. This is non-zero only where nodes $i$ and $j$ are connected, or $i = j$ since $\\tilde{A} = I_n + A$. \n",
        "\n",
        "$$\n",
        "\\left(\\mathbf{\\hat{A}}X\\right)_{ij} = \\sum_{k=1}^N \\mathbf{\\hat{A}}_{ik}X_{kj}\n",
        "$$\n",
        "This has the interpretation of computing a weighted sum of the $j$th attribute of all nodes connected to node $i$, weighted by the $\\mathbf{\\hat{A}}$ attributes described above. This yields a matrix of dimensions $n \\times c$, the original dimension $X$. \n",
        "\n",
        "Now taking the final multiplication against the weight matrix $W$ is effectively a normal fully-connected layer between this weighted sum of attributes and the next layer. \n",
        "\n",
        "Because this uses a single adjacency hop, it can only provide convolutions for a node to its direct neighbors. Stacking these layers allow for wider dependencies, similar to how stacking convolutional layers yields richer features. "
      ]
    },
    {
      "cell_type": "markdown",
      "metadata": {
        "id": "QUGABEqxylsd"
      },
      "source": [
        "#### Question 5 (0.5 pt)\n",
        "\n",
        "Compute the **normalized adjacency matrix** $\\hat{A}$. The result should be a sparse matrix."
      ]
    },
    {
      "cell_type": "code",
      "execution_count": 6,
      "metadata": {
        "id": "GPZbnSaSyDzO"
      },
      "outputs": [],
      "source": [
        "from scipy.sparse import identity\n",
        "a_tilde = coo + identity(coo.shape[0])\n",
        "a_hat = (diag_matrix.power(-0.5) @ a_tilde @ diag_matrix.power(-0.5)).tocoo()"
      ]
    },
    {
      "cell_type": "markdown",
      "metadata": {
        "id": "LLLdGdZoMEy-"
      },
      "source": [
        "#### Question 6 (0.5 pt)\n",
        "\n",
        "So far we have used scipy to build and compute sparse matrices. Since we want to train a GCN with PyTorch, we need to convert $\\hat{A}$ into a sparse PyTorch tensor. You can do this with the [`torch.sparse_coo_tensor()`](https://pytorch.org/docs/stable/generated/torch.sparse_coo_tensor.html) function, making sure to specify `torch.float` as the type."
      ]
    },
    {
      "cell_type": "code",
      "execution_count": 7,
      "metadata": {
        "id": "dgDsVHzEM32F"
      },
      "outputs": [],
      "source": [
        "# Your answer here\n",
        "indices = np.vstack((a_hat.row, a_hat.col))\n",
        "a_hat_torch = torch.sparse_coo_tensor(indices, a_hat.data, dtype=torch.float)"
      ]
    },
    {
      "cell_type": "markdown",
      "metadata": {
        "id": "eAlRVT5aODkX"
      },
      "source": [
        "#### Question 7 (0.5 pt)\n",
        "\n",
        "We now have all the ingredients to build a GCN layer. Implement a class (inheriting from `torch.nn.Module`) with a learnable matrix of weights $W\\in\\mathbb{R}^{c\\times d}$. Make sure to\n",
        "\n",
        "- Call this class `GCNLayer`\n",
        "- The `__init__()` constructor should take as argument the number of input and output features.\n",
        "- Use `torch.nn.init.kaiming_uniform_` to initialize $W$.\n",
        "- Define the `forward` method, which takes as input $X$ and $\\hat{A}$ and returns $Z$. Note that multiplications involving the sparse matrix $\\hat{A}$ have to be done with `torch.spmm`. \n",
        "\n",
        "Once you have implemented the class, instantiate a layer with the correct number of input features for the Cora dataset, and a number of output features of your choice. Do a forward pass and report the shape of the output tensor."
      ]
    },
    {
      "cell_type": "code",
      "execution_count": 8,
      "metadata": {
        "colab": {
          "base_uri": "https://localhost:8080/",
          "height": 0
        },
        "id": "JFCohhhwPpTT",
        "outputId": "46e0d2e2-0d87-4c19-9918-715ccd620e76"
      },
      "outputs": [
        {
          "output_type": "stream",
          "name": "stdout",
          "text": [
            "torch.Size([2708, 12])\n"
          ]
        }
      ],
      "source": [
        "# Your answer here\n",
        "class GCNLayer(torch.nn.Module):\n",
        "  def __init__(self, in_features, out_features):\n",
        "    super().__init__()\n",
        "    W = torch.empty((in_features, out_features))\n",
        "    self.W = torch.nn.Parameter(torch.nn.init.kaiming_uniform_(W), requires_grad=True)\n",
        "  \n",
        "  def forward(self, X, A_hat):\n",
        "    X = torch.spmm(A_hat, X)\n",
        "    #Z = torch.spmm(X, self.W)\n",
        "    Z = torch.matmul(X, self.W)\n",
        "    return Z\n",
        "\n",
        "gcn_layer = GCNLayer(node_features, 12)\n",
        "result = gcn_layer(data.x, a_hat_torch)\n",
        "print(result.size())"
      ]
    },
    {
      "cell_type": "markdown",
      "metadata": {
        "id": "1ptAiizZUKaM"
      },
      "source": [
        "#### Question 8 (0.5 pt)\n",
        "\n",
        "As we have seen so far, the GCN layer implements a special type of linear transformation of the inputs. However, it is often beneficial in deep learning to stack multiple, non-linear transformations of the input features. Implement a second module class for a model with two GCN layers (use the module you implemented in the previous question).\n",
        "\n",
        "- Call this class `GCN`\n",
        "- The constructor must now take as input the number of input features, the output dimension of the first layer (this is the hidden layer), and the output dimension of the output layer.\n",
        "- In the forward pass, add a ReLU activation function after the first layer."
      ]
    },
    {
      "cell_type": "code",
      "execution_count": 74,
      "metadata": {
        "id": "2zhyu3S9Vj3b"
      },
      "outputs": [],
      "source": [
        "# Your answer here\n",
        "class GCN(torch.nn.Module):\n",
        "  def __init__(self, in_features, h_size, out_features):\n",
        "    super().__init__()\n",
        "    self.gcn1 = GCNLayer(in_features, h_size)\n",
        "    self.gcn2 = GCNLayer(h_size, out_features)\n",
        "    self.relu = torch.nn.ReLU()\n",
        "  \n",
        "  def forward(self, X, A_hat):\n",
        "    assert not torch.isnan(X).any()\n",
        "    assert not torch.isnan(A_hat).any()\n",
        "    X = self.gcn1(X, A_hat)\n",
        "    assert not torch.isnan(X).any()\n",
        "    X = self.relu(X)\n",
        "    assert not torch.isnan(X).any()\n",
        "    Z = self.gcn2(X, A_hat)\n",
        "    assert not torch.isnan(Z).any()\n",
        "    return Z"
      ]
    },
    {
      "cell_type": "markdown",
      "metadata": {
        "id": "6NVB-3I5Wfkf"
      },
      "source": [
        "### GCNs for semi-supervised node classification\n",
        "\n",
        "Now that we have a GCN with two layers, we can test its performance in a node classification task. We will pass the input node features $X$ through the GCN layers, and the output will be of size $n\\times k$ where $k$ is the number of classes (which you found in question 1). The label denotes the topic an article in the citation network belongs to (e.g. physics, computer science, etc.)."
      ]
    },
    {
      "cell_type": "markdown",
      "metadata": {
        "id": "trc4dSa7cuQj"
      },
      "source": [
        "#### Question 9 (1.5 pt)\n",
        "\n",
        "Note that the `data` object contains all labels (for all splits) in `data.y`, and binary masks for the train, validation, and test splits in `data.train_mask`, `data.val_mask`, and `data.test_mask`, respectively. These masks are the same size as `data.y`, and indicate which labels belong to which split.\n",
        "\n",
        "- Create a GCN with two layers (using the class from the previous question), with 32 as the hidden dimension, and the number of output features equal to the number of classes in the Cora dataset.\n",
        "\n",
        "- Use the Adam optimizer with a learning rate of 0.01.\n",
        "\n",
        "- Implement a training loop for the GCN. At each step, pass $X$ and $\\hat{A}$ to the GCN to obtain the logits. Compute the mean cross-entropy loss **only for the training instances**, using the binary masks.\n",
        "\n",
        "- After each training step, evaluate the accuracy for the validation instances.\n",
        "\n",
        "- Train for 100 epochs. Once training is finished, plot the training loss and validation accuracy (in a graph in function of the epoch number), and report the accuracy in the test set.\n",
        "\n",
        "You should obtain an accuracy over 75% on both the validation and test sets. You can also compare your results with the original paper, which also contains results for the Cora dataset. Give a brief discussion on the results of your experiments.\n",
        "\n",
        "Note that in contrast with other tasks, like image classification on some datasets, we don't use mini-batches here. The whole matrix of features and the adjacency is passed to the GCN in one step."
      ]
    },
    {
      "cell_type": "code",
      "execution_count": 75,
      "metadata": {
        "colab": {
          "base_uri": "https://localhost:8080/",
          "height": 0
        },
        "id": "jSwkZIshkejy",
        "outputId": "2d308920-f509-402e-95ce-e2371df4baf3"
      },
      "outputs": [
        {
          "output_type": "stream",
          "name": "stdout",
          "text": [
            "0\n",
            "Running loss: 4.083870887756348\n",
            "Accuracy: 0.12000000476837158\n",
            "1\n",
            "Running loss: 2.726768970489502\n",
            "Accuracy: 0.18200001120567322\n",
            "2\n",
            "Running loss: 1.9883220195770264\n",
            "Accuracy: 0.24000000953674316\n",
            "3\n",
            "Running loss: 1.4490110874176025\n",
            "Accuracy: 0.3320000171661377\n",
            "4\n",
            "Running loss: 1.0632437467575073\n",
            "Accuracy: 0.4180000126361847\n",
            "5\n",
            "Running loss: 0.7939671277999878\n",
            "Accuracy: 0.492000013589859\n",
            "6\n",
            "Running loss: 0.6062090992927551\n",
            "Accuracy: 0.5400000214576721\n",
            "7\n",
            "Running loss: 0.469176709651947\n",
            "Accuracy: 0.5720000267028809\n",
            "8\n",
            "Running loss: 0.3651857078075409\n",
            "Accuracy: 0.5920000076293945\n",
            "9\n",
            "Running loss: 0.2845751941204071\n",
            "Accuracy: 0.6160000562667847\n",
            "10\n",
            "Running loss: 0.22210974991321564\n",
            "Accuracy: 0.6380000114440918\n",
            "11\n",
            "Running loss: 0.17476902902126312\n",
            "Accuracy: 0.6640000343322754\n",
            "12\n",
            "Running loss: 0.13929487764835358\n",
            "Accuracy: 0.6780000329017639\n",
            "13\n",
            "Running loss: 0.11216000467538834\n",
            "Accuracy: 0.6820000410079956\n",
            "14\n",
            "Running loss: 0.0911697968840599\n",
            "Accuracy: 0.690000057220459\n",
            "15\n",
            "Running loss: 0.07443634420633316\n",
            "Accuracy: 0.7000000476837158\n",
            "16\n",
            "Running loss: 0.06101473420858383\n",
            "Accuracy: 0.7020000219345093\n",
            "17\n",
            "Running loss: 0.04998702183365822\n",
            "Accuracy: 0.7120000123977661\n",
            "18\n",
            "Running loss: 0.04090013727545738\n",
            "Accuracy: 0.7200000286102295\n",
            "19\n",
            "Running loss: 0.03347611427307129\n",
            "Accuracy: 0.7200000286102295\n",
            "20\n",
            "Running loss: 0.0275289136916399\n",
            "Accuracy: 0.7240000367164612\n",
            "21\n",
            "Running loss: 0.022752316668629646\n",
            "Accuracy: 0.7280000448226929\n",
            "22\n",
            "Running loss: 0.01894066482782364\n",
            "Accuracy: 0.7280000448226929\n",
            "23\n",
            "Running loss: 0.01592583954334259\n",
            "Accuracy: 0.7320000529289246\n",
            "24\n",
            "Running loss: 0.013535719364881516\n",
            "Accuracy: 0.7320000529289246\n",
            "25\n",
            "Running loss: 0.011611925438046455\n",
            "Accuracy: 0.7360000610351562\n",
            "26\n",
            "Running loss: 0.010046427138149738\n",
            "Accuracy: 0.7360000610351562\n",
            "27\n",
            "Running loss: 0.00876839179545641\n",
            "Accuracy: 0.7360000610351562\n",
            "28\n",
            "Running loss: 0.007706066593527794\n",
            "Accuracy: 0.734000027179718\n",
            "29\n",
            "Running loss: 0.006815220229327679\n",
            "Accuracy: 0.7360000610351562\n",
            "30\n",
            "Running loss: 0.006064896937459707\n",
            "Accuracy: 0.7360000610351562\n",
            "31\n",
            "Running loss: 0.005429430399090052\n",
            "Accuracy: 0.7380000352859497\n",
            "32\n",
            "Running loss: 0.004885839764028788\n",
            "Accuracy: 0.7380000352859497\n",
            "33\n",
            "Running loss: 0.004421557765454054\n",
            "Accuracy: 0.7380000352859497\n",
            "34\n",
            "Running loss: 0.004024792462587357\n",
            "Accuracy: 0.7360000610351562\n",
            "35\n",
            "Running loss: 0.003683604998514056\n",
            "Accuracy: 0.7360000610351562\n",
            "36\n",
            "Running loss: 0.0033888358157128096\n",
            "Accuracy: 0.734000027179718\n",
            "37\n",
            "Running loss: 0.00313361338339746\n",
            "Accuracy: 0.734000027179718\n",
            "38\n",
            "Running loss: 0.002911691088229418\n",
            "Accuracy: 0.7380000352859497\n",
            "39\n",
            "Running loss: 0.002717772498726845\n",
            "Accuracy: 0.7380000352859497\n",
            "40\n",
            "Running loss: 0.0025472077541053295\n",
            "Accuracy: 0.7380000352859497\n",
            "41\n",
            "Running loss: 0.0023965153377503157\n",
            "Accuracy: 0.7400000095367432\n",
            "42\n",
            "Running loss: 0.0022626598365604877\n",
            "Accuracy: 0.7440000176429749\n",
            "43\n",
            "Running loss: 0.0021427790634334087\n",
            "Accuracy: 0.7440000176429749\n",
            "44\n",
            "Running loss: 0.0020353414583951235\n",
            "Accuracy: 0.7440000176429749\n",
            "45\n",
            "Running loss: 0.0019385614432394505\n",
            "Accuracy: 0.7440000176429749\n",
            "46\n",
            "Running loss: 0.001851389417424798\n",
            "Accuracy: 0.7440000176429749\n",
            "47\n",
            "Running loss: 0.001772310584783554\n",
            "Accuracy: 0.7440000176429749\n",
            "48\n",
            "Running loss: 0.0017004181863740087\n",
            "Accuracy: 0.7440000176429749\n",
            "49\n",
            "Running loss: 0.0016348466742783785\n",
            "Accuracy: 0.7440000176429749\n",
            "50\n",
            "Running loss: 0.0015746892895549536\n",
            "Accuracy: 0.7440000176429749\n",
            "51\n",
            "Running loss: 0.0015194474253803492\n",
            "Accuracy: 0.7440000176429749\n",
            "52\n",
            "Running loss: 0.0014685691567137837\n",
            "Accuracy: 0.7440000176429749\n",
            "53\n",
            "Running loss: 0.001421639695763588\n",
            "Accuracy: 0.7440000176429749\n",
            "54\n",
            "Running loss: 0.0013781689340248704\n",
            "Accuracy: 0.7460000514984131\n",
            "55\n",
            "Running loss: 0.0013377877185121179\n",
            "Accuracy: 0.7460000514984131\n",
            "56\n",
            "Running loss: 0.0013001649640500546\n",
            "Accuracy: 0.7460000514984131\n",
            "57\n",
            "Running loss: 0.0012650782009586692\n",
            "Accuracy: 0.7440000176429749\n",
            "58\n",
            "Running loss: 0.0012323023984208703\n",
            "Accuracy: 0.7440000176429749\n",
            "59\n",
            "Running loss: 0.0012016206746920943\n",
            "Accuracy: 0.7440000176429749\n",
            "60\n",
            "Running loss: 0.0011729163816198707\n",
            "Accuracy: 0.7440000176429749\n",
            "61\n",
            "Running loss: 0.0011458626249805093\n",
            "Accuracy: 0.7440000176429749\n",
            "62\n",
            "Running loss: 0.0011204329784959555\n",
            "Accuracy: 0.7460000514984131\n",
            "63\n",
            "Running loss: 0.0010964807588607073\n",
            "Accuracy: 0.7460000514984131\n",
            "64\n",
            "Running loss: 0.0010738489218056202\n",
            "Accuracy: 0.7460000514984131\n",
            "65\n",
            "Running loss: 0.0010524604003876448\n",
            "Accuracy: 0.7460000514984131\n",
            "66\n",
            "Running loss: 0.0010322072776034474\n",
            "Accuracy: 0.7460000514984131\n",
            "67\n",
            "Running loss: 0.0010129647562280297\n",
            "Accuracy: 0.7460000514984131\n",
            "68\n",
            "Running loss: 0.000994679518043995\n",
            "Accuracy: 0.7460000514984131\n",
            "69\n",
            "Running loss: 0.0009772988269105554\n",
            "Accuracy: 0.7460000514984131\n",
            "70\n",
            "Running loss: 0.0009606975363567472\n",
            "Accuracy: 0.7460000514984131\n",
            "71\n",
            "Running loss: 0.0009448102791793644\n",
            "Accuracy: 0.7460000514984131\n",
            "72\n",
            "Running loss: 0.0009296194766648114\n",
            "Accuracy: 0.7500000596046448\n",
            "73\n",
            "Running loss: 0.0009150207042694092\n",
            "Accuracy: 0.7500000596046448\n",
            "74\n",
            "Running loss: 0.0009010209469124675\n",
            "Accuracy: 0.7500000596046448\n",
            "75\n",
            "Running loss: 0.000887592788785696\n",
            "Accuracy: 0.7500000596046448\n",
            "76\n",
            "Running loss: 0.0008746928069740534\n",
            "Accuracy: 0.7500000596046448\n",
            "77\n",
            "Running loss: 0.0008622437017038465\n",
            "Accuracy: 0.7500000596046448\n",
            "78\n",
            "Running loss: 0.0008502022828906775\n",
            "Accuracy: 0.7500000596046448\n",
            "79\n",
            "Running loss: 0.0008385499240830541\n",
            "Accuracy: 0.7500000596046448\n",
            "80\n",
            "Running loss: 0.0008272665436379611\n",
            "Accuracy: 0.7480000257492065\n",
            "81\n",
            "Running loss: 0.0008162833983078599\n",
            "Accuracy: 0.7480000257492065\n",
            "82\n",
            "Running loss: 0.0008055997896008193\n",
            "Accuracy: 0.7480000257492065\n",
            "83\n",
            "Running loss: 0.0007952112937346101\n",
            "Accuracy: 0.7480000257492065\n",
            "84\n",
            "Running loss: 0.0007851378177292645\n",
            "Accuracy: 0.7480000257492065\n",
            "85\n",
            "Running loss: 0.0007753248792141676\n",
            "Accuracy: 0.7480000257492065\n",
            "86\n",
            "Running loss: 0.0007657447713427246\n",
            "Accuracy: 0.7480000257492065\n",
            "87\n",
            "Running loss: 0.0007564150728285313\n",
            "Accuracy: 0.7480000257492065\n",
            "88\n",
            "Running loss: 0.0007473126170225441\n",
            "Accuracy: 0.7460000514984131\n",
            "89\n",
            "Running loss: 0.0007384257041849196\n",
            "Accuracy: 0.7460000514984131\n",
            "90\n",
            "Running loss: 0.0007297489792108536\n",
            "Accuracy: 0.7480000257492065\n",
            "91\n",
            "Running loss: 0.0007212618947960436\n",
            "Accuracy: 0.7480000257492065\n",
            "92\n",
            "Running loss: 0.0007128631114028394\n",
            "Accuracy: 0.7480000257492065\n",
            "93\n",
            "Running loss: 0.0007046190439723432\n",
            "Accuracy: 0.7480000257492065\n",
            "94\n",
            "Running loss: 0.0006965410429984331\n",
            "Accuracy: 0.7480000257492065\n",
            "95\n",
            "Running loss: 0.0006886153714731336\n",
            "Accuracy: 0.7480000257492065\n",
            "96\n",
            "Running loss: 0.0006808759644627571\n",
            "Accuracy: 0.7480000257492065\n",
            "97\n",
            "Running loss: 0.0006732525653205812\n",
            "Accuracy: 0.7480000257492065\n",
            "98\n",
            "Running loss: 0.0006656738114543259\n",
            "Accuracy: 0.7480000257492065\n",
            "99\n",
            "Running loss: 0.0006581778870895505\n",
            "Accuracy: 0.7480000257492065\n",
            "Test Accuracy: 0.7570000290870667\n"
          ]
        }
      ],
      "source": [
        "# Your answer here\n",
        "# Initialize GCN\n",
        "num_classes = data.y.unique().size()[0]\n",
        "num_hidden = 32\n",
        "num_features = data.num_node_features\n",
        "torch.random.manual_seed(3)\n",
        "gcn = GCN(num_features, num_hidden, num_classes)\n",
        "\n",
        "n_epochs = 100\n",
        "\n",
        "optimizer = torch.optim.Adam(gcn.parameters(), lr=0.01)\n",
        "loss_fn = torch.nn.CrossEntropyLoss()\n",
        "\n",
        "all_losses = []\n",
        "val_accuracies = []\n",
        "\n",
        "device = torch.device('cuda' if torch.cuda.is_available() else 'cpu')\n",
        "\n",
        "gcn = gcn.to(device)\n",
        "data = data.to(device)\n",
        "a_hat_torch = a_hat_torch.to(device)\n",
        "\n",
        "for epoch in range(n_epochs):\n",
        "  print(epoch)\n",
        "  running_loss = 0\n",
        "  # Zero your gradients for every batch!\n",
        "  optimizer.zero_grad()\n",
        "\n",
        "  # Make predictions for this batch\n",
        "  pred = gcn(data.x, a_hat_torch)\n",
        "  # Compute the loss and its gradients\n",
        "  loss = loss_fn(pred[data.train_mask], data.y[data.train_mask])\n",
        "  loss.backward()\n",
        "\n",
        "  # Adjust learning weights\n",
        "  optimizer.step()\n",
        "  running_loss += loss.mean().item()\n",
        "  all_losses.append(running_loss)\n",
        "  print(f'Running loss: {running_loss}')\n",
        "\n",
        "  \n",
        "  preds = gcn(data.x, a_hat_torch)\n",
        "  correct = 0\n",
        "  for i, pred in enumerate(preds):\n",
        "    if not data.val_mask[i]:\n",
        "      continue\n",
        "    corr = data.y[i]\n",
        "    if torch.argmax(pred) == corr:\n",
        "      correct += 1\n",
        "  accuracy = correct/data.val_mask.sum()\n",
        "  print(f'Accuracy: {accuracy}')\n",
        "  val_accuracies.append(accuracy.cpu())\n",
        "\n",
        "preds = gcn(data.x, a_hat_torch)\n",
        "correct = 0\n",
        "for i, pred in enumerate(preds):\n",
        "  if not data.test_mask[i]:\n",
        "    continue\n",
        "  corr = data.y[i]\n",
        "  if torch.argmax(pred) == corr:\n",
        "    correct += 1\n",
        "test_accuracy = correct/data.test_mask.sum()\n",
        "print(f'Test Accuracy: {test_accuracy}')"
      ]
    },
    {
      "cell_type": "code",
      "execution_count": 79,
      "metadata": {
        "colab": {
          "base_uri": "https://localhost:8080/",
          "height": 750
        },
        "id": "mTIqtwUyjegS",
        "outputId": "56d6965b-a4c8-414c-862d-5e13576ea745"
      },
      "outputs": [
        {
          "output_type": "display_data",
          "data": {
            "text/plain": [
              "<Figure size 1440x720 with 1 Axes>"
            ],
            "image/png": "[encoded data removed]"
          },
          "metadata": {
            "needs_background": "light"
          }
        }
      ],
      "source": [
        "import matplotlib.pyplot as plt\n",
        "\n",
        "plt.figure(figsize=(20,10))\n",
        "plt.plot(list(range(len(val_accuracies))), val_accuracies, label='Validation Accuracy')\n",
        "plt.plot(list(range(len(all_losses))), all_losses, label='Average Epoch Loss')\n",
        "plt.title('Average training loss and validation accuracy per epoch')\n",
        "plt.title(\"\\n GCN Loss and Validation Accuracy over training steps for 100 epochs\\n\", size = 22)\n",
        "plt.ylabel(\"\\nCross-Entropy Loss\\n\", size = 18)\n",
        "plt.xlabel(\"\\nEpochs\\n\", size = 18)\n",
        "plt.xticks(size = 18, rotation = 45)\n",
        "plt.yticks(size = 18)\n",
        "plt.annotate(f\"Test Accuracy: {round(test_accuracy.item(),6)}\", xy = (40,3), size = 16)\n",
        "plt.legend()\n",
        "plt.show()"
      ]
    },
    {
      "cell_type": "markdown",
      "source": [
        "On the Cora dataset we obtained a validation accuracy of 74.80% after 100 epochs (75.00% maximum value after ca. 50 epochs), and on the test set a performance of 75.70%. We observe a quick plateauing of accuracy and loss values, indicating that the model stops learning efficiently before the end of the 100 epochs."
      ],
      "metadata": {
        "id": "468F-ieqjJKt"
      }
    },
    {
      "cell_type": "markdown",
      "metadata": {
        "id": "vb5YjHVClCqo"
      },
      "source": [
        "#### Question 10 (0.5 pt)\n",
        "\n",
        "The paper introduces GCNs as a way to solve a *semi-supervised* classification problem.\n",
        "\n",
        "- What makes this problem semi-supervised?\n",
        "- What is the proportion of labeled data used for training with respect to labeled data in the validation and test sets? What is difference in this context with other benchmark tasks in machine learning, like image classification with MNIST?\n",
        "- Why do you think the GCN performs well in this semi-supervised scenario?"
      ]
    },
    {
      "cell_type": "code",
      "execution_count": null,
      "metadata": {
        "colab": {
          "base_uri": "https://localhost:8080/"
        },
        "id": "CSkV7Ajko6o2",
        "outputId": "bc67c312-3676-40a9-e66c-4731851077cd"
      },
      "outputs": [
        {
          "output_type": "stream",
          "name": "stdout",
          "text": [
            "Number of Train Nodes: 140\n",
            "Number of Test Nodes: 1000\n",
            "Number of Val Nodes: 500\n"
          ]
        }
      ],
      "source": [
        "print(f\"Number of Train Nodes: {len(data.train_mask.nonzero())}\")\n",
        "print(f\"Number of Test Nodes: {len(data.test_mask.nonzero())}\")\n",
        "print(f\"Number of Val Nodes: {len(data.val_mask.nonzero())}\")\n"
      ]
    },
    {
      "cell_type": "markdown",
      "metadata": {
        "id": "Q0Ylm8qAlnS-"
      },
      "source": [
        "Only a subset of nodes is revealed to the model as labeled (through train_mask), essentially treating the other nodes as unlabeled. The gradient update is only performed based on the labeled nodes, i.e., in a **supervised** manner, but the connected graph structure (represented by the adjacency matrix) also allows to transmit gradient information from the labeled nodes to the unlabeled nodes. As the representations of the labeled nodes again depend on the representations of the unlabeled nodes, the model is forced to learn \"correct\" representations also of the unlabeled nodes. The model is thus capable to learn representations for unlabeled nodes without explicitly being trained on these nodes; the model thus also partly learns in an **unsupervised** fashion. As the GCN is able to learn both in a supervised and unsupervised way, the GCN is suitable to solve **semi-supervised** classification tasks.\n",
        "\n",
        "In the dataset at hand, only 140 labeled nodes are used for training, while 500 nodes are used for validation (e.g., tuning), and 1000 nodes can be used for testing. This demonstrates that not even 10% of graph nodes are needed to obtain a meaningful classification of labeled and unlabeled nodes in a GCN. Other commonly used neural network architectures would require a far higher amount of training examples in order to achieve comparable results. \n",
        "\n",
        "It is due to the nature of the graph structure, which involves propagating information between labeled and unlabeled nodes, that allows the GCN to perform so particularly well in semi-supervised scenarios, even with such a small portion of labeled training examples. \n",
        "\n"
      ]
    },
    {
      "cell_type": "markdown",
      "metadata": {
        "id": "4ihrjZddvz5d"
      },
      "source": [
        "### Loading a dataset of proteins\n",
        "\n",
        "In the previous sections you learned how to pass the adjacency matrix of a graph with a couple of thousand of nodes, to classify each node with a particular label. A different and useful application of GCNs is graph classification.\n",
        "\n",
        "In contrast with the previous part, where there was a single, big graph, in graph classification we have multiple graphs, and each graph can be assigned a label. In this part of the assignment you will implement a classifier for proteins.\n",
        "\n",
        "[Proteins](https://en.wikipedia.org/wiki/Protein_(nutrient)) are parts of the buildings block of life. They consist of chains of amino acids, and can take many shapes. In the PROTEINS dataset, proteins are represented as graphs, where the nodes are amino acids, and an edge between them indicates that they are 6 [Angstroms](https://en.wikipedia.org/wiki/Angstrom) apart. All graphs have a binary label, where 1 means that the protein is not an enzyme.\n",
        "\n",
        "We will start by loading and examining this dataset."
      ]
    },
    {
      "cell_type": "code",
      "execution_count": null,
      "metadata": {
        "colab": {
          "base_uri": "https://localhost:8080/"
        },
        "id": "xmqweMcvnUH6",
        "outputId": "bec8902b-c861-4400-b818-85d107b00aa9"
      },
      "outputs": [
        {
          "output_type": "stream",
          "name": "stderr",
          "text": [
            "Downloading https://www.chrsmrrs.com/graphkerneldatasets/PROTEINS.zip\n",
            "Extracting data/TU/PROTEINS/PROTEINS.zip\n",
            "Processing...\n",
            "Done!\n"
          ]
        }
      ],
      "source": [
        "from torch_geometric.datasets import TUDataset\n",
        "dataset = TUDataset(root='data/TU', name='PROTEINS', use_node_attr=True)"
      ]
    },
    {
      "cell_type": "markdown",
      "metadata": {
        "id": "_oF1gyKPXiz-"
      },
      "source": [
        "#### Question 11 (0.25 pt)\n",
        "\n",
        "Unlike in the previous part, where we selected the first element returned by the loading function, note that here we get all the elements returned by `TUDataset()`. `dataset` is an interable object, that has some similar behaviors as a Python list: you can call `len()` on it, and you can takes slices from it.\n",
        "\n",
        "Each element in `dataset` is a `Data` object containing a graph that represents a protein. This is the same type of object that we used in the previous part to store the Cora citation network.\n",
        "\n",
        "Knowing this, answer the following:\n",
        "\n",
        "- How many proteins (graphs) are there in `dataset`?\n",
        "- Take any protein from `dataset`. How many nodes and edges does it contain? What is its label? How many features does each node have?"
      ]
    },
    {
      "cell_type": "code",
      "execution_count": null,
      "metadata": {
        "colab": {
          "base_uri": "https://localhost:8080/"
        },
        "id": "ZNPsnXXbbHHe",
        "outputId": "90f70640-d3e6-484c-95e6-abc86fce9556"
      },
      "outputs": [
        {
          "output_type": "stream",
          "name": "stdout",
          "text": [
            "# Proteins in dataset: 1113\n",
            "# Nodes in protein: 20\n",
            "# Edges in protein: 64\n"
          ]
        }
      ],
      "source": [
        "# Your answer here\n",
        "# Proteins (graphs) in dataset:\n",
        "print(f'# Proteins in dataset: {len(dataset)}')\n",
        "\n",
        "# Nodes and edges in random protein network\n",
        "prot = dataset[10]\n",
        "print(f'# Nodes in protein: {prot.num_nodes}')\n",
        "print(f'# Edges in protein: {prot.num_edges}')"
      ]
    },
    {
      "cell_type": "markdown",
      "metadata": {
        "id": "kHSklBZXpKpR"
      },
      "source": [
        "#### Question 12 (0.5 pt)\n",
        "\n",
        "To properly train and evaluate our model, we need training, validation, and test splits.\n",
        "\n",
        "For reproducibility purposes, we generate a random tensor of indices for you. Use it to extract the three splits from `dataset`.\n",
        "\n",
        "For training, take 80% of the indices (starting from the first element in `indices`), then the following 10% for validation, and the remaining 10% for testing. You can use the indices to index `dataset`.\n",
        "\n",
        "Call the resulting splits `train_dataset`, `valid_dataset`, and `test_dataset`."
      ]
    },
    {
      "cell_type": "code",
      "execution_count": null,
      "metadata": {
        "id": "ttY4d1GInn08"
      },
      "outputs": [],
      "source": [
        "# Don't erase the following three lines\n",
        "import torch\n",
        "torch.random.manual_seed(0)\n",
        "indices = torch.randperm(len(dataset))\n",
        "\n",
        "# Your answer here\n",
        "num_training = round(len(dataset)*0.8)\n",
        "num_validation = round(len(dataset)*0.1)\n",
        "\n",
        "train_dataset = dataset[indices[0:num_training]]\n",
        "valid_dataset = dataset[indices[num_training:num_training+num_validation]]\n",
        "test_dataset = dataset[indices[num_training+num_validation:]]\n",
        "\n",
        "# Remove 4 problem Graphs for the Train Data and 1 for Valid (Caused NaNs):\n",
        "train_mask = torch.ones(len(train_dataset))\n",
        "for i in [33, 263, 543, 752]:\n",
        "  train_mask[i] = 0\n",
        "train_dataset = train_dataset[train_mask == 1]\n",
        "\n",
        "val_mask = torch.ones(len(valid_dataset))\n",
        "val_mask[60] = 0\n",
        "valid_dataset = valid_dataset[val_mask == 1]\n"
      ]
    },
    {
      "cell_type": "markdown",
      "metadata": {
        "id": "rDJbB4CQqsfp"
      },
      "source": [
        "### Working with a batch of graphs\n",
        "\n",
        "When working with the Cora dataset, you used the information in `data.edge_index` to build the sparse normalized adjacency matrix $\\hat{A}$ that is required by the GCN. We could do something similar here: for each graph, we build $\\hat{A}$, and pass it to the GCN. However, if the number of graphs is big, this can really slow down training.\n",
        "\n",
        "To avoid this, we will resort to a very useful trick that also allows us to reuse the same GCN you implemented previously. The trick makes it possible to do a forward pass through the GCN for multiple, disconnected graphs at the same time (instead of only one), much like when you train with mini-batches for other kinds of data.\n",
        "\n",
        "Let's first revisit the propagation rule of the GCN, $Z = \\hat{A}XW$, with an illustration (we have omitted the cells of $X$ and $W$ for clarity):\n",
        "\n",
        "<img src=\"https://raw.githubusercontent.com/dfdazac/dlvu-a5/main/img/02-gcn-forward.png\">\n",
        "\n",
        "If we have multiple graphs, we can still use the same propagation rule, if we\n",
        "\n",
        "- Set $\\hat{A}$ to be a block diagonal matrix, where the blocks are the different adjacency matrices of the graphs\n",
        "- Concatenate the feature matrices along the first dimension\n",
        "\n",
        "This is illustrated in the following figure, for a batch of 3 graphs. Note that the elements outside of the blocks are zero.\n",
        "\n",
        "<img src=\"https://raw.githubusercontent.com/dfdazac/dlvu-a5/main/img/02-gcn-batch-forward.png\">\n",
        "\n",
        "The resulting adjacency matrix $\\hat{A}_B$ can also be built as a sparse matrix, and once we have it together with the concatenated matrix of features, the computation of the graph convolution is exactly the same as before. Note how this trick also allows us to process graphs with different sizes and structures.\n"
      ]
    },
    {
      "cell_type": "markdown",
      "metadata": {
        "id": "0DLPJ62b2mQ6"
      },
      "source": [
        "#### Question 13 (0.5 pt)\n",
        "\n",
        "\n",
        "Just as the citation network, the graphs in each of the datasets you created in Question 12 also have an `edge_index` attribute, which can be used to compute the normalized adjacency matrix $\\hat{A}$, for each graph.\n",
        "\n",
        "Reusing your code for Questions 3 and 5, define a function `get_a_norm()` that takes as input an element of a dataset (e.g. `train_dataset[0]`), and returns a `scipy.sparse` matrix containing $\\hat{A}$.\n",
        "\n",
        "Note that an element of a dataset has properties like `num_edges`, `num_nodes`, etc. which you can use here."
      ]
    },
    {
      "cell_type": "code",
      "execution_count": null,
      "metadata": {
        "id": "4nvPX2GB8oXp"
      },
      "outputs": [],
      "source": [
        "\n",
        "# Your answer here\n",
        "def get_a_norm(graph: torch_geometric.data.Data):\n",
        "  adjacency_matrix = np.zeros((graph.num_nodes, graph.num_nodes), dtype = int) \n",
        "\n",
        "  for i in range(len(graph.edge_index[0])):\n",
        "    row = graph.edge_index[0][i]\n",
        "    col = graph.edge_index[1][i]\n",
        "    adjacency_matrix[row][col] = 1\n",
        "\n",
        "  coo = coo_matrix(adjacency_matrix)\n",
        "  degrees = coo.sum(axis=1).flatten().A\n",
        "  diag_matrix = diags(degrees, list(range(len(degrees))))\n",
        "  a_tilde = coo + identity(coo.shape[0])\n",
        "  a_hat = (diag_matrix.power(-0.5) @ a_tilde @ diag_matrix.power(-0.5)).tocoo()\n",
        "  \n",
        "  return a_hat\n"
      ]
    },
    {
      "cell_type": "markdown",
      "metadata": {
        "id": "cBrmYBY3AfhW"
      },
      "source": [
        "#### Question 14 (1 pt)\n",
        "\n",
        "To prepare the batch of graphs, we need to collect multiple adjacency matrices, feature matrices, and labels.\n",
        "\n",
        "When using the trick described in the last figure, we see that we have to keep track of when a graph starts and when it ends, so that we can later differentiate the outputs due to $X^{(0)}$, $X^{(1)}$, etc. To achieve this, we will additionally collect a 1D array of batch indices, one for each $X^{(i)}$.\n",
        "\n",
        "The 1D array has as many elements as rows in $X^{(i)}$, and it is filled with the value $i$ (the position of $X^{(i)}$ in the batch):\n",
        "\n",
        "<img src=\"https://raw.githubusercontent.com/dfdazac/dlvu-a5/main/img/03-batch-indices.png\">\n",
        "\n",
        "We will later concatenate all the 1D arrays along the first dimension, just as we will do with all the $X^{(i)}$.\n",
        "\n",
        "Define a function `prepare_graphs_batch()` that takes as input a dataset (e.g. `train_dataset`), and does the following\n",
        "\n",
        "- Create four empty lists:\n",
        "  - `adj_matrices`\n",
        "  - `feature_matrices`\n",
        "  - `batch_indices`\n",
        "  - `labels`\n",
        "- Iterate over the input dataset, getting one graph at a time. At each step, use your function from Question 13 to append the adjacency matrix to `adj_matrices`, append the matrix of input features to `feature_matrices`, create the array of batch indices (as explained above) and append it to `batch_indices`, and append the label of the graph to `labels`. **Make sure to convert the label to float**.\n",
        "- Once the loop is over, use `scipy.sparse.block_diag()` to build the block diagonal matrix $\\hat{A}_B$. Convert it to the COO format, and then use your answer to Question 6 to turn it into a sparse PyTorch tensor.\n",
        "- Use `torch.cat()` to concatenate the tensors in `feature_matrices` along the first dimension. Do this also for `batch_indices` and `labels`.\n",
        "- Return the 4 tensors computed in the previous two items."
      ]
    },
    {
      "cell_type": "code",
      "execution_count": 61,
      "metadata": {
        "id": "SsQ0-JjSqFgD"
      },
      "outputs": [],
      "source": [
        "import numpy as np\n",
        "from scipy.sparse import block_diag\n",
        "\n",
        "# Your answer here\n",
        "def prepare_graphs_batch(dataset):\n",
        "\n",
        "  adj_matricies = []\n",
        "  feature_matrices = []\n",
        "  batch_indices = []\n",
        "  labels = []\n",
        "\n",
        "  for i, data in enumerate(dataset):\n",
        "    adj_matricies.append(get_a_norm(data))\n",
        "    feature_matrices.append(data.x)\n",
        "    labels.append(data.y.float())\n",
        "    batch_indices.append(torch.zeros(len(data.x), dtype = torch.int64)+i)\n",
        "\n",
        "  a_hat_B = block_diag(adj_matricies).tocoo()\n",
        "  indices = np.vstack((a_hat_B.row, a_hat_B.col))\n",
        "  a_hat_B_torch = torch.sparse_coo_tensor(indices, a_hat_B.data, dtype=torch.float)\n",
        "\n",
        "  feat_mat_cat = torch.cat(feature_matrices, axis = 0)\n",
        "  batch_indices_cat = torch.cat(batch_indices, axis = 0)\n",
        "  labels_cat = torch.cat(labels, axis = 0)\n",
        "\n",
        "  return a_hat_B_torch, feat_mat_cat, batch_indices_cat, labels_cat"
      ]
    },
    {
      "cell_type": "code",
      "execution_count": 62,
      "metadata": {
        "id": "7Q_PI-hFjNQj"
      },
      "outputs": [],
      "source": [
        "\n",
        "train_a_norm, train_features, train_batch_idx, train_labels = prepare_graphs_batch(train_dataset)\n",
        "val_a_norm, val_features, val_batch_idx, val_labels = prepare_graphs_batch(valid_dataset)\n",
        "test_a_norm, test_features, test_batch_idx, test_labels = prepare_graphs_batch(test_dataset)\n"
      ]
    },
    {
      "cell_type": "markdown",
      "metadata": {
        "id": "i73P_EU0MSPX"
      },
      "source": [
        "Once your answer for the previous question is ready, you can run the next cell to prepare all the required information, for the train, validation, and test splits."
      ]
    },
    {
      "cell_type": "markdown",
      "metadata": {
        "id": "R6q-JU87NClh"
      },
      "source": [
        "### GCNs for graph classification\n",
        "\n",
        "We now have all the ingredients to pass a batch of graphs to a GCN. However, for each graph in the batch, the output $Z^{(i)}$ contains one row for each node in the graph. If the goal is to do classification at the graph level, we have to *pool* these vectors to then compute the required logits for classification.\n",
        "\n",
        "This operation is similar as how pooling works in a CNN. We could consider taking the mean of the vectors, the sum, or use max-pooling. The difference with respect to CNNs is that in our case, we have a batch of graphs, each potentially with a different number of nodes.\n",
        "\n",
        "To implement this specific pooling, we can use the scatter operation in the `torch_scatter` library, which comes when installing PyG. We will use it, together with the tensor of batch indices from the previous two questions, to pool the outputs of the GCN for each graph, into a single vector:\n",
        "\n",
        "<img src=\"https://raw.githubusercontent.com/dfdazac/dlvu-a5/main/img/04-scatter.png\">\n",
        "\n",
        "You can check more details in the [documentation](https://pytorch-scatter.readthedocs.io/en/latest/functions/scatter.html)."
      ]
    },
    {
      "cell_type": "markdown",
      "metadata": {
        "id": "QY87DX1uRhnY"
      },
      "source": [
        "#### Question 15 (1.0 pt)\n",
        "\n",
        "Implement a `GraphClassifier` module using PyTorch.\n",
        "\n",
        "- The constructor should take as arguments the number of input features, the hidden dimension, and the number of classes.\n",
        "- The model should contain a instance of the `GCN` module (as you implemented it in Question 8). Use the same value for the hidden dimension and the number of output features (recall that your `GCN` module from Question 8 has two GCN layers).\n",
        "- The model should also contain a `torch.nn.Linear` layer, with the hidden dimension as the input features, and the number of classes as the output.\n",
        "- The forward method receives the concatenated matrix of features, the sparse block diagonal adjacency matrix, and the batch indices (the latter is used when calling `scatter`).\n",
        "- Use the following architecture in the forward pass:\n",
        "  - GCN $\\to$ ReLU $\\to$ scatter (max) $\\to$ Linear.\n",
        "\n",
        "The output of the forward should be a 1D tensor (you might need to call `squeeze` to get rid of extra dimensions) containing the logits for all graphs in the batch, for the binary classification task."
      ]
    },
    {
      "cell_type": "code",
      "execution_count": null,
      "metadata": {
        "id": "NmMbR--CvfFe"
      },
      "outputs": [],
      "source": [
        "\n",
        "from torch_scatter import scatter\n",
        "\n",
        "class GraphClassifier(torch.nn.Module):\n",
        "  def __init__(self, in_features, hidden_size, num_classes):\n",
        "    super().__init__()\n",
        "    self.gcn = GCN(in_features, hidden_size, hidden_size)\n",
        "    self.relu = torch.nn.ReLU()\n",
        "    self.fc1 = torch.nn.Linear(hidden_size, num_classes)\n",
        "    self.sigmoid = torch.nn.Sigmoid()\n",
        "\n",
        "  def forward(self, X, adj_mat, batch_indices): \n",
        "    assert not torch.isnan(X).any()\n",
        "    assert not torch.isnan(adj_mat).any()\n",
        "    x = self.gcn(X, adj_mat)\n",
        "    assert not torch.isnan(x).any()\n",
        "    x = self.relu(x)\n",
        "    x = scatter(x, batch_indices, 0)\n",
        "    x = self.fc1(x)\n",
        "    output = torch.squeeze(x)\n",
        "    return output\n",
        "    \n"
      ]
    },
    {
      "cell_type": "markdown",
      "metadata": {
        "id": "C1PHy-_vTjgh"
      },
      "source": [
        "#### Question 16 (1.5 pt)\n",
        "\n",
        "Implement a training loop for the graph classifier. Use the data from Question 14 to train and evaluate the model.\n",
        "\n",
        "We encourage you to use a GPU in this section for faster training. Note that if you change the runtime at this point, you must re-execute several of the cells above, including the ones that install PyG.\n",
        "\n",
        "- Instantiate a classifier with 32 as the hidden dimension\n",
        "- Use Adam with a learning rate of 1e-3.\n",
        "- Use `torch.nn.BCEWithLogitsLoss` as the loss function.\n",
        "- Train for 5,000 epochs. Once training is done, plot the loss curve and the accuracy in the validation set. Then report the accuracy in the test set.\n",
        "\n",
        "**Note:** the logits from the output of the classifier come from a linear layer. To compute actual predictions for the calculation of the accuracy, pass the logits through `torch.sigmoid()`, and set the predicted values to 1 whenever they are greater than 0.5, and to 0 otherwise.\n",
        "\n",
        "You should get an accuracy equal to or higher than 70% in the validation and test sets. Can you beat the [state-of-the-art](https://paperswithcode.com/sota/graph-classification-on-proteins)? Feel free to modify your architecture and experiment with it.\n",
        "\n",
        "Discuss what you observe during training and your results."
      ]
    },
    {
      "cell_type": "code",
      "execution_count": 26,
      "metadata": {
        "colab": {
          "base_uri": "https://localhost:8080/",
          "height": 0
        },
        "id": "9DbGAs8W2Xja",
        "outputId": "475aa8e5-6893-4e54-c457-ff81bbfa1833"
      },
      "outputs": [
        {
          "output_type": "stream",
          "name": "stdout",
          "text": [
            "Epoch 0 - Running loss: 21.373144149780273, Train Accuracy: 0.5925508141517639, Val Accuracy: 0.6272727251052856\n",
            "Epoch 500 - Running loss: 0.5415264964103699, Train Accuracy: 0.7550790309906006, Val Accuracy: 0.7545454502105713\n",
            "Epoch 1000 - Running loss: 0.534081757068634, Train Accuracy: 0.7471783757209778, Val Accuracy: 0.7636363506317139\n",
            "Epoch 1500 - Running loss: 0.5193541049957275, Train Accuracy: 0.7607223391532898, Val Accuracy: 0.7727272510528564\n",
            "Epoch 2000 - Running loss: 0.5163883566856384, Train Accuracy: 0.765237033367157, Val Accuracy: 0.7636363506317139\n",
            "Epoch 2500 - Running loss: 0.520374059677124, Train Accuracy: 0.752821683883667, Val Accuracy: 0.7636363506317139\n",
            "Epoch 3000 - Running loss: 0.5240050554275513, Train Accuracy: 0.7449210286140442, Val Accuracy: 0.781818151473999\n",
            "Epoch 3500 - Running loss: 0.5268449783325195, Train Accuracy: 0.7663657069206238, Val Accuracy: 0.7454545497894287\n",
            "Epoch 4000 - Running loss: 0.5060558915138245, Train Accuracy: 0.765237033367157, Val Accuracy: 0.781818151473999\n",
            "Epoch 4500 - Running loss: 0.5053207278251648, Train Accuracy: 0.7720090746879578, Val Accuracy: 0.7727272510528564\n",
            "time needed: 33.22485637664795\n"
          ]
        }
      ],
      "source": [
        "# If your runtime is GPU-enabled, use .to(device) to move the model\n",
        "# and all the relevant tensors to the GPU. You have to move tensors back to CPU\n",
        "# when computing metrics like accuracy, using .cpu().\n",
        "\n",
        "import time\n",
        "\n",
        "# Helper function\n",
        "def sigmoid(x):\n",
        "  \"\"\"Sigmoid helper function for computing the accuracy by hand\"\"\"\n",
        "  return 1 / (1 + torch.exp(-x))\n",
        "\n",
        "device = torch.device('cuda') if torch.cuda.is_available() else 'cpu'\n",
        "\n",
        "num_classes = 1\n",
        "hidden_size = 32\n",
        "in_features = train_features.size()[1]\n",
        "\n",
        "n_epochs = 5000\n",
        "\n",
        "gclassifier = GraphClassifier(in_features, hidden_size, num_classes)\n",
        "optimizer = torch.optim.Adam(gclassifier.parameters(), lr=5e-03)\n",
        "loss_fn = torch.nn.BCEWithLogitsLoss()\n",
        "\n",
        "# Move to GPU\n",
        "gclassifier.to(device)\n",
        "train_a_norm = train_a_norm.to(device)\n",
        "train_features = train_features.to(device)\n",
        "train_batch_idx = train_batch_idx.to(device) #\n",
        "train_labels = train_labels.to(device)\n",
        "val_a_norm = val_a_norm.to(device)\n",
        "val_features = val_features.to(device)\n",
        "val_batch_idx = val_batch_idx.to(device) #\n",
        "val_labels = val_labels.to(device)\n",
        "all_losses = []\n",
        "\n",
        "start = time.time()\n",
        "# Run Training Loop\n",
        "for epoch in range(n_epochs):\n",
        "\n",
        "  running_loss = 0\n",
        "\n",
        "  # Zero gradients for every batch\n",
        "  optimizer.zero_grad()\n",
        "\n",
        "  # Make predictions for this batch\n",
        "  pred = gclassifier.forward(train_features, train_a_norm, train_batch_idx.type(torch.int64))\n",
        "\n",
        "  # Compute the loss and its gradients\n",
        "  loss = loss_fn(pred, train_labels)\n",
        "  loss.backward()\n",
        "\n",
        "  # Adjust learning weights\n",
        "  optimizer.step()\n",
        "  running_loss += loss.item()\n",
        "  all_losses.append(running_loss)\n",
        "\n",
        "  if epoch % 500 == 0:\n",
        "    # Calculate Train accuracy\n",
        "    correct = (sigmoid(pred).round() == train_labels).sum() # Working only with sigmoid helper function\n",
        "    accuracy = correct / len(train_labels)\n",
        "\n",
        "    # Calculate Val accuracy\n",
        "    pred_val = gclassifier.forward(val_features, val_a_norm, val_batch_idx.type(torch.int64))\n",
        "    val_correct = (sigmoid(pred_val).round() == val_labels).sum() # Working only with sigmoid helper function\n",
        "    val_accuracy = val_correct / len(val_labels)\n",
        "    print(f'Epoch {epoch} - Running loss: {running_loss}, Train Accuracy: {accuracy}, Val Accuracy: {val_accuracy}')\n",
        "\n",
        "stop = time.time()\n",
        "\n",
        "print(f\"time needed: {stop - start}\")\n",
        "\n",
        "# Your answer here\n"
      ]
    },
    {
      "cell_type": "markdown",
      "metadata": {
        "id": "H0eNIZW-y8D-"
      },
      "source": [
        "## Tuning the Network\n",
        "\n",
        "- Adding more GCN Layers\n",
        "- Adding Batch Normalization\n",
        "- Varying the LR\n",
        "- Varying the hidden dimension\n"
      ]
    },
    {
      "cell_type": "code",
      "execution_count": 63,
      "metadata": {
        "id": "O-ukx0Ly8wY9"
      },
      "outputs": [],
      "source": [
        "\n",
        "class GraphClassifier_tune(torch.nn.Module):\n",
        "  def __init__(self, in_features, hidden_size, num_classes, normalize = False, no_layers = 2):\n",
        "    super().__init__()\n",
        "\n",
        "    self.normalize = normalize\n",
        "    self.no_layers = no_layers\n",
        "    self.gcn = GCN(in_features, hidden_size, hidden_size)\n",
        "    self.gcn2 = GCN(hidden_size, hidden_size, hidden_size)\n",
        "    self.gcn3 = GCN(hidden_size, hidden_size, hidden_size)\n",
        "    self.relu = torch.nn.ReLU()\n",
        "    self.norm = torch.nn.BatchNorm1d(hidden_size)\n",
        "    self.norm2 = torch.nn.BatchNorm1d(hidden_size)\n",
        "    self.fc1 = torch.nn.Linear(hidden_size, num_classes)\n",
        "    self.sigmoid = torch.nn.Sigmoid()\n",
        "\n",
        "\n",
        "  def forward(self, X, adj_mat, batch_indices): \n",
        "\n",
        "    # Apply GCN\n",
        "    x = self.gcn(X, adj_mat)\n",
        "\n",
        "    # Normalize\n",
        "    if self.normalize:\n",
        "      x = self.norm(torch.squeeze(x))\n",
        "    else:\n",
        "      pass\n",
        "\n",
        "    # Add Layers (two each)\n",
        "    if self.no_layers == 4:\n",
        "      x = self.gcn2(x, adj_mat)\n",
        "\n",
        "    elif self.no_layers == 6:\n",
        "      x = self.gcn2(x, adj_mat)\n",
        "      x = self.gcn3(x, adj_mat)\n",
        "\n",
        "    # Nonlinearity\n",
        "    x = self.relu(x)\n",
        "    x = scatter(x, batch_indices, 0)\n",
        "\n",
        "    # Normalize\n",
        "    if self.normalize:\n",
        "      x = self.norm2(torch.squeeze(x))\n",
        "    else:\n",
        "      pass\n",
        "    \n",
        "    # Linear layer\n",
        "    x = self.fc1(x)\n",
        "    output = torch.squeeze(x)\n",
        "    return output\n"
      ]
    },
    {
      "cell_type": "code",
      "execution_count": null,
      "metadata": {
        "colab": {
          "base_uri": "https://localhost:8080/"
        },
        "id": "yGEtt2TQpDHf",
        "outputId": "bcbc4216-093d-4c41-8284-59d49f8d2cdd"
      },
      "outputs": [
        {
          "output_type": "stream",
          "name": "stdout",
          "text": [
            "GCN Layers: 2, Hidden dim: 32, LR: 0.001, Normalize: True \n",
            "- Running loss: 0.4358757, Train Accuracy: 0.79007, Val Accuracy: 0.68182 \n",
            "\n",
            "GCN Layers: 2, Hidden dim: 32, LR: 0.001, Normalize: False \n",
            "- Running loss: 0.5138417, Train Accuracy: 0.75734, Val Accuracy: 0.8 \n",
            "\n",
            "GCN Layers: 4, Hidden dim: 32, LR: 0.001, Normalize: True \n",
            "- Running loss: 0.1138684, Train Accuracy: 0.96388, Val Accuracy: 0.66364 \n",
            "\n",
            "GCN Layers: 4, Hidden dim: 32, LR: 0.001, Normalize: False \n",
            "- Running loss: 0.5292078, Train Accuracy: 0.75282, Val Accuracy: 0.8 \n",
            "\n",
            "GCN Layers: 6, Hidden dim: 32, LR: 0.001, Normalize: True \n",
            "- Running loss: 0.0762756, Train Accuracy: 0.97291, Val Accuracy: 0.54545 \n",
            "\n",
            "GCN Layers: 6, Hidden dim: 32, LR: 0.001, Normalize: False \n",
            "- Running loss: 0.5121213, Train Accuracy: 0.75395, Val Accuracy: 0.80909 \n",
            "\n",
            "GCN Layers: 2, Hidden dim: 64, LR: 0.001, Normalize: True \n",
            "- Running loss: 0.401168, Train Accuracy: 0.80587, Val Accuracy: 0.68182 \n",
            "\n",
            "GCN Layers: 2, Hidden dim: 64, LR: 0.001, Normalize: False \n",
            "- Running loss: 0.5064247, Train Accuracy: 0.77314, Val Accuracy: 0.81818 \n",
            "\n",
            "GCN Layers: 4, Hidden dim: 64, LR: 0.001, Normalize: True \n",
            "- Running loss: 0.1714377, Train Accuracy: 0.93228, Val Accuracy: 0.67273 \n",
            "\n",
            "GCN Layers: 4, Hidden dim: 64, LR: 0.001, Normalize: False \n",
            "- Running loss: 0.4571607, Train Accuracy: 0.78217, Val Accuracy: 0.74545 \n",
            "\n",
            "GCN Layers: 6, Hidden dim: 64, LR: 0.001, Normalize: True \n",
            "- Running loss: 0.075601, Train Accuracy: 0.97178, Val Accuracy: 0.66364 \n",
            "\n",
            "GCN Layers: 6, Hidden dim: 64, LR: 0.001, Normalize: False \n",
            "- Running loss: 0.5206072, Train Accuracy: 0.76298, Val Accuracy: 0.78182 \n",
            "\n",
            "GCN Layers: 2, Hidden dim: 128, LR: 0.001, Normalize: True \n",
            "- Running loss: 0.320197, Train Accuracy: 0.8465, Val Accuracy: 0.6 \n",
            "\n",
            "GCN Layers: 2, Hidden dim: 128, LR: 0.001, Normalize: False \n",
            "- Running loss: 0.5110605, Train Accuracy: 0.76637, Val Accuracy: 0.78182 \n",
            "\n",
            "GCN Layers: 4, Hidden dim: 128, LR: 0.001, Normalize: True \n",
            "- Running loss: 0.0076358, Train Accuracy: 1.0, Val Accuracy: 0.68182 \n",
            "\n",
            "GCN Layers: 4, Hidden dim: 128, LR: 0.001, Normalize: False \n",
            "- Running loss: 0.486992, Train Accuracy: 0.78104, Val Accuracy: 0.79091 \n",
            "\n",
            "GCN Layers: 6, Hidden dim: 128, LR: 0.001, Normalize: True \n",
            "- Running loss: 0.0265559, Train Accuracy: 0.99097, Val Accuracy: 0.66364 \n",
            "\n",
            "GCN Layers: 6, Hidden dim: 128, LR: 0.001, Normalize: False \n",
            "- Running loss: 0.4329835, Train Accuracy: 0.8149, Val Accuracy: 0.80909 \n",
            "\n",
            "GCN Layers: 2, Hidden dim: 32, LR: 0.01, Normalize: True \n",
            "- Running loss: 0.2951598, Train Accuracy: 0.86569, Val Accuracy: 0.32727 \n",
            "\n",
            "GCN Layers: 2, Hidden dim: 32, LR: 0.01, Normalize: False \n",
            "- Running loss: 0.4886337, Train Accuracy: 0.77878, Val Accuracy: 0.8 \n",
            "\n",
            "GCN Layers: 4, Hidden dim: 32, LR: 0.01, Normalize: True \n",
            "- Running loss: 0.172319, Train Accuracy: 0.93567, Val Accuracy: 0.4 \n",
            "\n",
            "GCN Layers: 4, Hidden dim: 32, LR: 0.01, Normalize: False \n",
            "- Running loss: 0.501011, Train Accuracy: 0.77652, Val Accuracy: 0.8 \n",
            "\n",
            "GCN Layers: 6, Hidden dim: 32, LR: 0.01, Normalize: True \n",
            "- Running loss: 0.3025356, Train Accuracy: 0.87246, Val Accuracy: 0.68182 \n",
            "\n",
            "GCN Layers: 6, Hidden dim: 32, LR: 0.01, Normalize: False \n",
            "- Running loss: 0.5508031, Train Accuracy: 0.74831, Val Accuracy: 0.79091 \n",
            "\n",
            "GCN Layers: 2, Hidden dim: 64, LR: 0.01, Normalize: True \n",
            "- Running loss: 0.2139595, Train Accuracy: 0.90745, Val Accuracy: 0.38182 \n",
            "\n",
            "GCN Layers: 2, Hidden dim: 64, LR: 0.01, Normalize: False \n",
            "- Running loss: 0.4621534, Train Accuracy: 0.79007, Val Accuracy: 0.8 \n",
            "\n",
            "GCN Layers: 4, Hidden dim: 64, LR: 0.01, Normalize: True \n",
            "- Running loss: 0.1378815, Train Accuracy: 0.94018, Val Accuracy: 0.71818 \n",
            "\n",
            "GCN Layers: 4, Hidden dim: 64, LR: 0.01, Normalize: False \n",
            "- Running loss: 0.6690966, Train Accuracy: 0.59594, Val Accuracy: 0.62727 \n",
            "\n",
            "GCN Layers: 6, Hidden dim: 64, LR: 0.01, Normalize: True \n",
            "- Running loss: 0.3334134, Train Accuracy: 0.86907, Val Accuracy: 0.53636 \n",
            "\n",
            "GCN Layers: 6, Hidden dim: 64, LR: 0.01, Normalize: False \n",
            "- Running loss: 0.6759167, Train Accuracy: 0.59255, Val Accuracy: 0.62727 \n",
            "\n",
            "GCN Layers: 2, Hidden dim: 128, LR: 0.01, Normalize: True \n",
            "- Running loss: 0.1840265, Train Accuracy: 0.91422, Val Accuracy: 0.59091 \n",
            "\n",
            "GCN Layers: 2, Hidden dim: 128, LR: 0.01, Normalize: False \n",
            "- Running loss: 0.4458757, Train Accuracy: 0.7912, Val Accuracy: 0.75455 \n",
            "\n",
            "GCN Layers: 4, Hidden dim: 128, LR: 0.01, Normalize: True \n",
            "- Running loss: 0.0008893, Train Accuracy: 1.0, Val Accuracy: 0.57273 \n",
            "\n",
            "GCN Layers: 4, Hidden dim: 128, LR: 0.01, Normalize: False \n",
            "- Running loss: 0.6737219, Train Accuracy: 0.59368, Val Accuracy: 0.62727 \n",
            "\n",
            "GCN Layers: 6, Hidden dim: 128, LR: 0.01, Normalize: True \n",
            "- Running loss: 0.1230471, Train Accuracy: 0.95485, Val Accuracy: 0.45455 \n",
            "\n",
            "GCN Layers: 6, Hidden dim: 128, LR: 0.01, Normalize: False \n",
            "- Running loss: 0.528172, Train Accuracy: 0.76411, Val Accuracy: 0.76364 \n",
            "\n",
            "time needed: 3209.064288854599\n"
          ]
        }
      ],
      "source": [
        "from sklearn.model_selection import ParameterGrid\n",
        "\n",
        "param_grid = ParameterGrid({\"no_layers\": [2, 4, 6], \n",
        "              \"no_hidden\": [32, 64, 128],\n",
        "              \"lr\" : [0.001, 0.01],\n",
        "              \"norm\" : [True, False]})\n",
        "\n",
        "# Helper function\n",
        "def sigmoid(x):\n",
        "  \"\"\"Sigmoid helper function for computing the accuracy by hand\"\"\"\n",
        "  return 1 / (1 + torch.exp(-x))\n",
        "\n",
        "device = torch.device('cuda') if torch.cuda.is_available() else 'cpu'\n",
        "\n",
        "start = time.time()\n",
        "for params in param_grid:\n",
        "\n",
        "  num_classes = int(max(train_labels))\n",
        "  hidden_size = params['no_hidden']\n",
        "  in_features = train_features.size()[1]\n",
        "  layers = params['no_layers']\n",
        "  lr = params['lr']\n",
        "  norm = params['norm']\n",
        "\n",
        "  n_epochs = 5000\n",
        "\n",
        "  gclassifier = GraphClassifier_tune(in_features, hidden_size, num_classes, normalize = norm, no_layers = layers)\n",
        "  optimizer = torch.optim.Adam(gclassifier.parameters(), lr=lr)\n",
        "  loss_fn = torch.nn.BCEWithLogitsLoss()\n",
        "\n",
        "  # Move to GPU\n",
        "  gclassifier.to(device)\n",
        "  train_a_norm = train_a_norm.to(device)\n",
        "  train_features = train_features.to(device)\n",
        "  train_batch_idx = train_batch_idx.to(device) #\n",
        "  train_labels = train_labels.to(device)\n",
        "  val_a_norm = val_a_norm.to(device)\n",
        "  val_features = val_features.to(device)\n",
        "  val_batch_idx = val_batch_idx.to(device) #\n",
        "  val_labels = val_labels.to(device)\n",
        "  all_losses = []\n",
        "\n",
        "  # Run Training Loop\n",
        "  for epoch in range(n_epochs):\n",
        "\n",
        "    running_loss = 0\n",
        "\n",
        "    # Zero gradients for every batch\n",
        "    optimizer.zero_grad()\n",
        "\n",
        "    # Make predictions for this batch\n",
        "    pred = gclassifier.forward(train_features, train_a_norm, train_batch_idx.type(torch.int64))\n",
        "\n",
        "    # Compute the loss and its gradients\n",
        "    loss = loss_fn(pred, train_labels)\n",
        "    loss.backward()\n",
        "\n",
        "    # Adjust learning weights\n",
        "    optimizer.step()\n",
        "    running_loss += loss.item()\n",
        "    all_losses.append(running_loss)\n",
        "\n",
        "  # Calculate Train accuracy\n",
        "  correct = (sigmoid(pred).round() == train_labels).sum()\n",
        "  accuracy = correct / len(train_labels)\n",
        "\n",
        "  # Calculate Val accuracy\n",
        "  pred_val = gclassifier.forward(val_features, val_a_norm, val_batch_idx.type(torch.int64))\n",
        "  val_correct = (sigmoid(pred_val).round() == val_labels).sum()\n",
        "  val_accuracy = val_correct / len(val_labels)\n",
        "  print(f'GCN Layers: {layers}, Hidden dim: {hidden_size}, LR: {lr}, Normalize: {norm} \\n- Running loss: {round(running_loss,7)}, Train Accuracy: {round(accuracy.item(),5)}, Val Accuracy: {round(val_accuracy.item(),5)} \\n')\n",
        "\n",
        "stop = time.time()\n",
        "\n",
        "print(f\"time needed: {stop - start}\")\n"
      ]
    },
    {
      "cell_type": "markdown",
      "source": [
        "Raw output: \n",
        "```\n",
        "GCN Layers: 2, Hidden dim: 32, LR: 0.001, Normalize: True \n",
        "- Running loss: 0.4358757, Train Accuracy: 0.79007, Val Accuracy: 0.68182 \n",
        "\n",
        "GCN Layers: 2, Hidden dim: 32, LR: 0.001, Normalize: False \n",
        "- Running loss: 0.5138417, Train Accuracy: 0.75734, Val Accuracy: 0.8 \n",
        "\n",
        "GCN Layers: 4, Hidden dim: 32, LR: 0.001, Normalize: True \n",
        "- Running loss: 0.1138684, Train Accuracy: 0.96388, Val Accuracy: 0.66364 \n",
        "\n",
        "GCN Layers: 4, Hidden dim: 32, LR: 0.001, Normalize: False \n",
        "- Running loss: 0.5292078, Train Accuracy: 0.75282, Val Accuracy: 0.8 \n",
        "\n",
        "GCN Layers: 6, Hidden dim: 32, LR: 0.001, Normalize: True \n",
        "- Running loss: 0.0762756, Train Accuracy: 0.97291, Val Accuracy: 0.54545 \n",
        "\n",
        "GCN Layers: 6, Hidden dim: 32, LR: 0.001, Normalize: False \n",
        "- Running loss: 0.5121213, Train Accuracy: 0.75395, Val Accuracy: 0.80909 \n",
        "\n",
        "GCN Layers: 2, Hidden dim: 64, LR: 0.001, Normalize: True \n",
        "- Running loss: 0.401168, Train Accuracy: 0.80587, Val Accuracy: 0.68182 \n",
        "\n",
        "GCN Layers: 2, Hidden dim: 64, LR: 0.001, Normalize: False \n",
        "- Running loss: 0.5064247, Train Accuracy: 0.77314, Val Accuracy: 0.81818 \n",
        "\n",
        "GCN Layers: 4, Hidden dim: 64, LR: 0.001, Normalize: True \n",
        "- Running loss: 0.1714377, Train Accuracy: 0.93228, Val Accuracy: 0.67273 \n",
        "\n",
        "GCN Layers: 4, Hidden dim: 64, LR: 0.001, Normalize: False \n",
        "- Running loss: 0.4571607, Train Accuracy: 0.78217, Val Accuracy: 0.74545 \n",
        "\n",
        "GCN Layers: 6, Hidden dim: 64, LR: 0.001, Normalize: True \n",
        "- Running loss: 0.075601, Train Accuracy: 0.97178, Val Accuracy: 0.66364 \n",
        "\n",
        "GCN Layers: 6, Hidden dim: 64, LR: 0.001, Normalize: False \n",
        "- Running loss: 0.5206072, Train Accuracy: 0.76298, Val Accuracy: 0.78182 \n",
        "\n",
        "GCN Layers: 2, Hidden dim: 128, LR: 0.001, Normalize: True \n",
        "- Running loss: 0.320197, Train Accuracy: 0.8465, Val Accuracy: 0.6 \n",
        "\n",
        "GCN Layers: 2, Hidden dim: 128, LR: 0.001, Normalize: False \n",
        "- Running loss: 0.5110605, Train Accuracy: 0.76637, Val Accuracy: 0.78182 \n",
        "\n",
        "GCN Layers: 4, Hidden dim: 128, LR: 0.001, Normalize: True \n",
        "- Running loss: 0.0076358, Train Accuracy: 1.0, Val Accuracy: 0.68182 \n",
        "\n",
        "GCN Layers: 4, Hidden dim: 128, LR: 0.001, Normalize: False \n",
        "- Running loss: 0.486992, Train Accuracy: 0.78104, Val Accuracy: 0.79091 \n",
        "\n",
        "GCN Layers: 6, Hidden dim: 128, LR: 0.001, Normalize: True \n",
        "- Running loss: 0.0265559, Train Accuracy: 0.99097, Val Accuracy: 0.66364 \n",
        "\n",
        "GCN Layers: 6, Hidden dim: 128, LR: 0.001, Normalize: False \n",
        "- Running loss: 0.4329835, Train Accuracy: 0.8149, Val Accuracy: 0.80909 \n",
        "\n",
        "GCN Layers: 2, Hidden dim: 32, LR: 0.01, Normalize: True \n",
        "- Running loss: 0.2951598, Train Accuracy: 0.86569, Val Accuracy: 0.32727 \n",
        "\n",
        "GCN Layers: 2, Hidden dim: 32, LR: 0.01, Normalize: False \n",
        "- Running loss: 0.4886337, Train Accuracy: 0.77878, Val Accuracy: 0.8 \n",
        "\n",
        "GCN Layers: 4, Hidden dim: 32, LR: 0.01, Normalize: True \n",
        "- Running loss: 0.172319, Train Accuracy: 0.93567, Val Accuracy: 0.4 \n",
        "\n",
        "GCN Layers: 4, Hidden dim: 32, LR: 0.01, Normalize: False \n",
        "- Running loss: 0.501011, Train Accuracy: 0.77652, Val Accuracy: 0.8 \n",
        "\n",
        "GCN Layers: 6, Hidden dim: 32, LR: 0.01, Normalize: True \n",
        "- Running loss: 0.3025356, Train Accuracy: 0.87246, Val Accuracy: 0.68182 \n",
        "\n",
        "GCN Layers: 6, Hidden dim: 32, LR: 0.01, Normalize: False \n",
        "- Running loss: 0.5508031, Train Accuracy: 0.74831, Val Accuracy: 0.79091 \n",
        "\n",
        "GCN Layers: 2, Hidden dim: 64, LR: 0.01, Normalize: True \n",
        "- Running loss: 0.2139595, Train Accuracy: 0.90745, Val Accuracy: 0.38182 \n",
        "\n",
        "GCN Layers: 2, Hidden dim: 64, LR: 0.01, Normalize: False \n",
        "- Running loss: 0.4621534, Train Accuracy: 0.79007, Val Accuracy: 0.8 \n",
        "\n",
        "GCN Layers: 4, Hidden dim: 64, LR: 0.01, Normalize: True \n",
        "- Running loss: 0.1378815, Train Accuracy: 0.94018, Val Accuracy: 0.71818 \n",
        "\n",
        "GCN Layers: 4, Hidden dim: 64, LR: 0.01, Normalize: False \n",
        "- Running loss: 0.6690966, Train Accuracy: 0.59594, Val Accuracy: 0.62727 \n",
        "\n",
        "GCN Layers: 6, Hidden dim: 64, LR: 0.01, Normalize: True \n",
        "- Running loss: 0.3334134, Train Accuracy: 0.86907, Val Accuracy: 0.53636 \n",
        "\n",
        "GCN Layers: 6, Hidden dim: 64, LR: 0.01, Normalize: False \n",
        "- Running loss: 0.6759167, Train Accuracy: 0.59255, Val Accuracy: 0.62727 \n",
        "\n",
        "GCN Layers: 2, Hidden dim: 128, LR: 0.01, Normalize: True \n",
        "- Running loss: 0.1840265, Train Accuracy: 0.91422, Val Accuracy: 0.59091 \n",
        "\n",
        "GCN Layers: 2, Hidden dim: 128, LR: 0.01, Normalize: False \n",
        "- Running loss: 0.4458757, Train Accuracy: 0.7912, Val Accuracy: 0.75455 \n",
        "\n",
        "GCN Layers: 4, Hidden dim: 128, LR: 0.01, Normalize: True \n",
        "- Running loss: 0.0008893, Train Accuracy: 1.0, Val Accuracy: 0.57273 \n",
        "\n",
        "GCN Layers: 4, Hidden dim: 128, LR: 0.01, Normalize: False \n",
        "- Running loss: 0.6737219, Train Accuracy: 0.59368, Val Accuracy: 0.62727 \n",
        "\n",
        "GCN Layers: 6, Hidden dim: 128, LR: 0.01, Normalize: True \n",
        "- Running loss: 0.1230471, Train Accuracy: 0.95485, Val Accuracy: 0.45455 \n",
        "\n",
        "GCN Layers: 6, Hidden dim: 128, LR: 0.01, Normalize: False \n",
        "- Running loss: 0.528172, Train Accuracy: 0.76411, Val Accuracy: 0.76364 \n",
        "\n",
        "time needed: 3209.064288854599\n",
        "```"
      ],
      "metadata": {
        "id": "1TZWiYGbVB5o"
      }
    },
    {
      "cell_type": "markdown",
      "source": [
        "Here we see that the best parameter combination is\n",
        "```\n",
        "GCN Layers: 2, Hidden dim: 64, LR: 0.001, Normalize: False \n",
        "- Running loss: 0.5064247, Train Accuracy: 0.77314, Val Accuracy: 0.81818 \n",
        "```\n",
        "\n",
        "Interestingly there appears to be strong overfitting with large hidden layers, normalization and additional GCN layers. A few models with 128 hidden layer sizes and normalization set to true were able to achieve a training accuracy of 100%, but their validation accuracy suffered as a result. This indicates overfitting with these models, which over 5000 epochs is expected. Overfitting is the least apparent in models with only 2 GCN layers that do not normalize.\n"
      ],
      "metadata": {
        "id": "0S2bxhtrTMoo"
      }
    },
    {
      "cell_type": "markdown",
      "source": [
        "## Testing the best Model on the Test set\n",
        "\n",
        "In order to obtain an individual performance measure for our tuned model, we trained a GCN again for 5000 epochs using the hyperparameters that yielded the highest generalization performance on the validation set. These hyperparameters were:\n",
        "\n",
        "- LR 0.001\n",
        "- 2 GCN Layers\n",
        "- Hiddem dim of 64\n",
        "- No BatchNorm\n",
        "\n",
        "We finally report the model's performance in classifying the previously unseen test set. "
      ],
      "metadata": {
        "id": "ygv0Hd4hbNWJ"
      }
    },
    {
      "cell_type": "code",
      "source": [
        "\n",
        "# Helper function\n",
        "def sigmoid(x):\n",
        "  \"\"\"Sigmoid helper function for computing the accuracy by hand\"\"\"\n",
        "  return 1 / (1 + torch.exp(-x))\n",
        "\n",
        "device = torch.device('cuda') if torch.cuda.is_available() else 'cpu'\n",
        "\n",
        "start = time.time()\n",
        "\n",
        "num_classes = int(max(train_labels))\n",
        "hidden_size = 64\n",
        "in_features = train_features.size()[1]\n",
        "layers = 2\n",
        "lr = 0.001\n",
        "norm = False\n",
        "\n",
        "n_epochs = 5000\n",
        "\n",
        "gclassifier = GraphClassifier_tune(in_features, hidden_size, num_classes, normalize = norm, no_layers = layers)\n",
        "optimizer = torch.optim.Adam(gclassifier.parameters(), lr=lr)\n",
        "loss_fn = torch.nn.BCEWithLogitsLoss()\n",
        "\n",
        "# Move to GPU\n",
        "gclassifier.to(device)\n",
        "train_a_norm = train_a_norm.to(device)\n",
        "train_features = train_features.to(device)\n",
        "train_batch_idx = train_batch_idx.to(device) \n",
        "train_labels = train_labels.to(device)\n",
        "test_a_norm = test_a_norm.to(device)\n",
        "test_features = test_features.to(device)\n",
        "test_batch_idx = test_batch_idx.to(device) \n",
        "test_labels = test_labels.to(device)\n",
        "train_losses = []\n",
        "test_losses = []\n",
        "\n",
        "# Run Training Loop\n",
        "for epoch in range(n_epochs):\n",
        "\n",
        "  # Zero gradients for every batch\n",
        "  optimizer.zero_grad()\n",
        "\n",
        "  # Make predictions for this batch\n",
        "  pred = gclassifier.forward(train_features, train_a_norm, train_batch_idx.type(torch.int64))\n",
        "\n",
        "  # Compute the loss and its gradients\n",
        "  loss = loss_fn(pred, train_labels)\n",
        "  loss.backward()\n",
        "\n",
        "  # Adjust learning weights\n",
        "  optimizer.step()\n",
        "  train_losses.append(loss.item())\n",
        "\n",
        "  # Calculate Train accuracy\n",
        "  correct = (sigmoid(pred).round() == train_labels).sum()\n",
        "  accuracy = correct / len(train_labels)\n",
        "\n",
        "  # Calculate Test accuracy\n",
        "  pred_test = gclassifier.forward(test_features, test_a_norm, test_batch_idx.type(torch.int64))\n",
        "  test_loss = loss_fn(pred_test, test_labels)\n",
        "  test_correct = (sigmoid(pred_test).round() == test_labels).sum()\n",
        "  test_accuracy = test_correct / len(test_labels)\n",
        "  test_losses.append(test_loss.item())\n",
        "\n",
        "print(f'GCN Layers: {layers}, Hidden dim: {hidden_size}, LR: {lr}, Normalize: {norm} \\n- Running loss: {round(loss.item(),7)}, Train Accuracy: {round(accuracy.item(),5)}, Test Accuracy: {round(test_accuracy.item(),5)} \\n')\n",
        "\n",
        "stop = time.time()\n",
        "\n",
        "print(f\"time needed: {stop - start}\")\n",
        "\n",
        "plt.figure(figsize=(20,10))\n",
        "plt.plot(list(range(len(train_losses))), train_losses, label='Train Loss')\n",
        "plt.plot(list(range(len(test_losses))), test_losses, label='Test Loss')\n",
        "plt.title('Average training loss and validation accuracy per epoch')\n",
        "plt.title(\"\\n GCN Loss and Validation Accuracy over training steps for 100 epochs\\n\", size = 22)\n",
        "plt.ylabel(\"\\n BCE with Logits Loss\\n\", size = 18)\n",
        "plt.xlabel(\"\\n Epochs\\n\", size = 18)\n",
        "plt.xticks(size = 18, rotation = 45)\n",
        "plt.yticks(size = 18)\n",
        "plt.ylim(0,3)\n",
        "plt.annotate(f\"Train Accuracy: {round(accuracy.item(),5)} \\n Test Accuracy: {round(test_accuracy.item(),5)}\", xy = (2000, 1), size = 16)\n",
        "plt.legend()\n",
        "plt.show()\n"
      ],
      "metadata": {
        "colab": {
          "base_uri": "https://localhost:8080/",
          "height": 831
        },
        "id": "pNmPH53oWY1Z",
        "outputId": "b7bc948f-0638-44a3-d1fc-2c54107cc1a3"
      },
      "execution_count": 71,
      "outputs": [
        {
          "output_type": "stream",
          "name": "stdout",
          "text": [
            "GCN Layers: 2, Hidden dim: 64, LR: 0.001, Normalize: False \n",
            "- Running loss: 0.5035046, Train Accuracy: 0.77878, Test Accuracy: 0.76786 \n",
            "\n",
            "time needed: 45.73457431793213\n"
          ]
        },
        {
          "output_type": "display_data",
          "data": {
            "text/plain": [
              "<Figure size 1440x720 with 1 Axes>"
            ],
            "image/png": "[encoded data removed]"
          },
          "metadata": {
            "needs_background": "light"
          }
        }
      ]
    },
    {
      "cell_type": "markdown",
      "source": [
        " The final accuracy obtained in the independent testset unfortunately did not attain a competitive level with a test accuracy of 76,786%. This performance lies above the state of the art from 2016, but below the state of the art from 2019. Based on the tuning using the validation set, we expected a higher performance, at least close to 80%. As evident in the loss plot (see above), the test loss starts to rise after around 1500 epochs, while the training loss keeps decreasing. This is a clear sign for overfitting the model to the training data. Thus, it might be best to train the GCNs for a smaller amount of epochs, in order to avoid overfitting on the training set. However, in order to preserve good scientific practice, we did not try to optimize based on the test accuracy, but rather accept the results as they are. "
      ],
      "metadata": {
        "id": "L2qO3Ib_eu-b"
      }
    },
    {
      "cell_type": "markdown",
      "metadata": {
        "id": "MvmAfDNMcnKD"
      },
      "source": [
        "## The end\n",
        "\n",
        "If you have made it all the way here successfully, congratulations! 🎉 \n",
        "\n",
        "You have implemented your own GCN and tested it on a node classification task, and a more challenging classification task over multiple graphs.\n",
        "\n",
        "We hope you can use this knowledge to apply GCNs not only to the tasks described here, but other applications where data can be modeled as a graph.\n",
        "\n",
        "If you are interested in applying graph neural networks to larger graphs, or try newer architectures, you can dive deeper into [PyTorch Geometric](https://pytorch-geometric.readthedocs.io/en/latest/), a library with fast implementations for a wide range of architectures. It also comes with custom code that takes care of aspects that you dealt with manually for this assignment, like a more efficient implementation of the adjacency matrix multiplication via message-passing methods, and Data Loaders that relieve you from having to build block diagonal sparse matrices.\n",
        "\n",
        "You can also check the [Deep Graph Library](https://docs.dgl.ai/) another powerful library for deep learning on graphs which also integrates with other backends like TensorFlow."
      ]
    },
    {
      "cell_type": "markdown",
      "metadata": {
        "id": "l7QhyAMms8-L"
      },
      "source": [
        "# Grading (10pt)"
      ]
    },
    {
      "cell_type": "markdown",
      "metadata": {
        "id": "juIdxXhos-mV"
      },
      "source": [
        "- Question 1: 0.25pt \n",
        "- Question 2: 0.25pt \n",
        "- Question 3: 0.5pt \n",
        "- Question 4: 0.25pt \n",
        "- Question 5: 0.5pt \n",
        "- Question 6: 0.5pt \n",
        "- Question 7: 0.5pt \n",
        "- Question 8: 0.5pt \n",
        "- Question 9: 1.5pt \n",
        "- Question 10: 0.5pt \n",
        "- Question 11: 0.25pt \n",
        "- Question 12: 0.5pt \n",
        "- Question 13: 0.5pt \n",
        "- Question 14: 1pt\n",
        "- Question 15: 1pt\n",
        "- Question 16: 1.5pt"
      ]
    }
  ],
  "metadata": {
    "accelerator": "GPU",
    "colab": {
      "provenance": []
    },
    "gpuClass": "standard",
    "kernelspec": {
      "display_name": "Python 3 (ipykernel)",
      "language": "python",
      "name": "python3"
    },
    "language_info": {
      "codemirror_mode": {
        "name": "ipython",
        "version": 3
      },
      "file_extension": ".py",
      "mimetype": "text/x-python",
      "name": "python",
      "nbconvert_exporter": "python",
      "pygments_lexer": "ipython3",
      "version": "3.9.15"
    },
    "varInspector": {
      "cols": {
        "lenName": 16,
        "lenType": 16,
        "lenVar": 40
      },
      "kernels_config": {
        "python": {
          "delete_cmd_postfix": "",
          "delete_cmd_prefix": "del ",
          "library": "var_list.py",
          "varRefreshCmd": "print(var_dic_list())"
        },
        "r": {
          "delete_cmd_postfix": ") ",
          "delete_cmd_prefix": "rm(",
          "library": "var_list.r",
          "varRefreshCmd": "cat(var_dic_list()) "
        }
      },
      "types_to_exclude": [
        "module",
        "function",
        "builtin_function_or_method",
        "instance",
        "_Feature"
      ],
      "window_display": false
    }
  },
  "nbformat": 4,
  "nbformat_minor": 0
}